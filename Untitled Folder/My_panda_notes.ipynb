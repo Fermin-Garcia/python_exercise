{
 "cells": [
  {
   "cell_type": "markdown",
   "id": "e7b7fff2",
   "metadata": {},
   "source": [
    "## Here is what we are going to cover"
   ]
  },
  {
   "cell_type": "markdown",
   "id": "e9d7ace2",
   "metadata": {},
   "source": [
    "- Create a series \n",
    "- Series data types\n",
    "- Vectorized operations\n",
    "- Series attributes \n",
    "- Series methods"
   ]
  },
  {
   "cell_type": "code",
   "execution_count": 4,
   "id": "db93653b",
   "metadata": {},
   "outputs": [],
   "source": [
    "# we have to start with the imports \n",
    "import pandas as pd # this will be standard \n",
    "import numpy as np # also standaard \n",
    "from pydataset import data # here is where we will get sample data "
   ]
  },
  {
   "cell_type": "markdown",
   "id": "81ce1a91",
   "metadata": {},
   "source": [
    "# Creating a Series "
   ]
  },
  {
   "cell_type": "markdown",
   "id": "57181ba5",
   "metadata": {},
   "source": [
    "- from a list \n",
    "- from a numpy array \n",
    "- from a dictionary\n",
    "- from a data frame\n"
   ]
  },
  {
   "cell_type": "code",
   "execution_count": 11,
   "id": "145fb3b6",
   "metadata": {},
   "outputs": [
    {
     "data": {
      "text/plain": [
       "list"
      ]
     },
     "execution_count": 11,
     "metadata": {},
     "output_type": "execute_result"
    }
   ],
   "source": [
    "my_list = [2,3,5]\n",
    "type(list)"
   ]
  },
  {
   "cell_type": "code",
   "execution_count": 12,
   "id": "48b4bc40",
   "metadata": {},
   "outputs": [
    {
     "data": {
      "text/plain": [
       "2"
      ]
     },
     "execution_count": 12,
     "metadata": {},
     "output_type": "execute_result"
    }
   ],
   "source": [
    "# in a list we can call specific values by using its index as shown below:\n",
    "list[0] # since python is a zero index language this will return the first value '2'"
   ]
  },
  {
   "cell_type": "markdown",
   "id": "cc47307e",
   "metadata": {},
   "source": [
    "> here is how we convert this into a panda series "
   ]
  },
  {
   "cell_type": "code",
   "execution_count": 14,
   "id": "155bf8d3",
   "metadata": {},
   "outputs": [
    {
     "data": {
      "text/plain": [
       "0    2\n",
       "1    3\n",
       "2    5\n",
       "dtype: int64"
      ]
     },
     "execution_count": 14,
     "metadata": {},
     "output_type": "execute_result"
    }
   ],
   "source": [
    "my_series = pd.Series(my_list)\n",
    "my_series"
   ]
  },
  {
   "cell_type": "markdown",
   "id": "8281e4ea",
   "metadata": {},
   "source": [
    "## Now lets check the type of this value"
   ]
  },
  {
   "cell_type": "code",
   "execution_count": 15,
   "id": "76e229c2",
   "metadata": {},
   "outputs": [
    {
     "data": {
      "text/plain": [
       "pandas.core.series.Series"
      ]
     },
     "execution_count": 15,
     "metadata": {},
     "output_type": "execute_result"
    }
   ],
   "source": [
    "type(my_series)"
   ]
  },
  {
   "cell_type": "markdown",
   "id": "d586d5a6",
   "metadata": {},
   "source": [
    "# Now from an array "
   ]
  },
  {
   "cell_type": "code",
   "execution_count": 16,
   "id": "0967994b",
   "metadata": {},
   "outputs": [
    {
     "data": {
      "text/plain": [
       "pandas.core.series.Series"
      ]
     },
     "execution_count": 16,
     "metadata": {},
     "output_type": "execute_result"
    }
   ],
   "source": [
    "my_array = np.array([8.0, 13.0, 21.0])\n",
    "\n",
    "# create series from array\n",
    "my_series = pd.Series(my_array)\n",
    "\n",
    "type(my_series)\n"
   ]
  },
  {
   "cell_type": "code",
   "execution_count": 17,
   "id": "30776c67",
   "metadata": {},
   "outputs": [
    {
     "data": {
      "text/plain": [
       "a    0.0\n",
       "b    1.5\n",
       "c    2.0\n",
       "d    3.5\n",
       "e    4.0\n",
       "f    5.5\n",
       "dtype: float64"
      ]
     },
     "execution_count": 17,
     "metadata": {},
     "output_type": "execute_result"
    }
   ],
   "source": [
    "# now from a dictionary\n",
    "labeled_series = pd.Series({'a' : 0, 'b' : 1.5, 'c' : 2, 'd': 3.5, 'e': 4, 'f': 5.5})\n",
    "labeled_series\n"
   ]
  },
  {
   "cell_type": "markdown",
   "id": "33c918cf",
   "metadata": {},
   "source": [
    "# Now from a dataframe"
   ]
  },
  {
   "cell_type": "code",
   "execution_count": 18,
   "id": "3bfc98c9",
   "metadata": {},
   "outputs": [
    {
     "data": {
      "text/html": [
       "<div>\n",
       "<style scoped>\n",
       "    .dataframe tbody tr th:only-of-type {\n",
       "        vertical-align: middle;\n",
       "    }\n",
       "\n",
       "    .dataframe tbody tr th {\n",
       "        vertical-align: top;\n",
       "    }\n",
       "\n",
       "    .dataframe thead th {\n",
       "        text-align: right;\n",
       "    }\n",
       "</style>\n",
       "<table border=\"1\" class=\"dataframe\">\n",
       "  <thead>\n",
       "    <tr style=\"text-align: right;\">\n",
       "      <th></th>\n",
       "      <th>Reaction</th>\n",
       "      <th>Days</th>\n",
       "      <th>Subject</th>\n",
       "    </tr>\n",
       "  </thead>\n",
       "  <tbody>\n",
       "    <tr>\n",
       "      <th>1</th>\n",
       "      <td>249.5600</td>\n",
       "      <td>0</td>\n",
       "      <td>308</td>\n",
       "    </tr>\n",
       "    <tr>\n",
       "      <th>2</th>\n",
       "      <td>258.7047</td>\n",
       "      <td>1</td>\n",
       "      <td>308</td>\n",
       "    </tr>\n",
       "    <tr>\n",
       "      <th>3</th>\n",
       "      <td>250.8006</td>\n",
       "      <td>2</td>\n",
       "      <td>308</td>\n",
       "    </tr>\n",
       "    <tr>\n",
       "      <th>4</th>\n",
       "      <td>321.4398</td>\n",
       "      <td>3</td>\n",
       "      <td>308</td>\n",
       "    </tr>\n",
       "    <tr>\n",
       "      <th>5</th>\n",
       "      <td>356.8519</td>\n",
       "      <td>4</td>\n",
       "      <td>308</td>\n",
       "    </tr>\n",
       "  </tbody>\n",
       "</table>\n",
       "</div>"
      ],
      "text/plain": [
       "   Reaction  Days  Subject\n",
       "1  249.5600     0      308\n",
       "2  258.7047     1      308\n",
       "3  250.8006     2      308\n",
       "4  321.4398     3      308\n",
       "5  356.8519     4      308"
      ]
     },
     "execution_count": 18,
     "metadata": {},
     "output_type": "execute_result"
    }
   ],
   "source": [
    "sleep_df = data('sleepstudy')\n",
    "sleep_df.head()"
   ]
  },
  {
   "cell_type": "markdown",
   "id": "046dfe31",
   "metadata": {},
   "source": [
    "# A single bracket "
   ]
  },
  {
   "cell_type": "code",
   "execution_count": 20,
   "id": "d0bcbb7f",
   "metadata": {},
   "outputs": [
    {
     "data": {
      "text/plain": [
       "1      249.5600\n",
       "2      258.7047\n",
       "3      250.8006\n",
       "4      321.4398\n",
       "5      356.8519\n",
       "         ...   \n",
       "176    329.6076\n",
       "177    334.4818\n",
       "178    343.2199\n",
       "179    369.1417\n",
       "180    364.1236\n",
       "Name: Reaction, Length: 180, dtype: float64"
      ]
     },
     "execution_count": 20,
     "metadata": {},
     "output_type": "execute_result"
    }
   ],
   "source": [
    "sleep_series = sleep_df['Reaction']\n",
    "sleep_series\n"
   ]
  },
  {
   "cell_type": "code",
   "execution_count": 23,
   "id": "835fe521",
   "metadata": {},
   "outputs": [
    {
     "data": {
      "text/plain": [
       "pandas.core.frame.DataFrame"
      ]
     },
     "execution_count": 23,
     "metadata": {},
     "output_type": "execute_result"
    }
   ],
   "source": [
    "# While we are not on dataframes see the example blow:\n",
    "# and notice how when we use the double brackets we end up with a dataframe\n",
    "# and not a series\n",
    "my_dataframe_that_resembles_a_series = sleep_df[['Reaction']]\n",
    "type(my_dataframe_that_resembles_a_series)\n",
    "#my_dataframe_that_resembles_a_series"
   ]
  },
  {
   "cell_type": "markdown",
   "id": "4e213d22",
   "metadata": {},
   "source": [
    "# Pandas data types "
   ]
  },
  {
   "cell_type": "markdown",
   "id": "295d7c29",
   "metadata": {},
   "source": [
    "- int: integer, whole number values \n",
    "- float: decimal numbers \n",
    "- bool: true or false \n",
    "- object: string \n",
    "- category: a fixed set of string values\n",
    "- a name, an optional human-friendly name for the series\n",
    "- inferring\n",
    "- using astype()"
   ]
  },
  {
   "cell_type": "markdown",
   "id": "2254caaf",
   "metadata": {},
   "source": [
    "### Inferring \n"
   ]
  },
  {
   "cell_type": "code",
   "execution_count": 24,
   "id": "f2dc6e5c",
   "metadata": {},
   "outputs": [
    {
     "data": {
      "text/plain": [
       "0     True\n",
       "1    False\n",
       "2     True\n",
       "dtype: bool"
      ]
     },
     "execution_count": 24,
     "metadata": {},
     "output_type": "execute_result"
    }
   ],
   "source": [
    "pd.Series([True,False,True])\n",
    "# pay attention to the dtype in the output for this and the next examples "
   ]
  },
  {
   "cell_type": "code",
   "execution_count": 25,
   "id": "bb5a0a46",
   "metadata": {},
   "outputs": [
    {
     "data": {
      "text/plain": [
       "0         I\n",
       "1      Love\n",
       "2    Codeup\n",
       "dtype: object"
      ]
     },
     "execution_count": 25,
     "metadata": {},
     "output_type": "execute_result"
    }
   ],
   "source": [
    "pd.Series(['I', 'Love', 'Codeup'])"
   ]
  },
  {
   "cell_type": "code",
   "execution_count": 26,
   "id": "5a86ee49",
   "metadata": {},
   "outputs": [
    {
     "data": {
      "text/plain": [
       "0       1\n",
       "1       3\n",
       "2    five\n",
       "dtype: object"
      ]
     },
     "execution_count": 26,
     "metadata": {},
     "output_type": "execute_result"
    }
   ],
   "source": [
    "my_series = pd.Series([1, 3, 'five'])\n",
    "my_series\n"
   ]
  },
  {
   "cell_type": "code",
   "execution_count": 29,
   "id": "9f4cd675",
   "metadata": {},
   "outputs": [
    {
     "data": {
      "text/plain": [
       "0    1\n",
       "1    3\n",
       "dtype: object"
      ]
     },
     "execution_count": 29,
     "metadata": {},
     "output_type": "execute_result"
    }
   ],
   "source": [
    "# now were gonna filter out the five \n",
    "my_new_series = my_series[my_series != 'five']\n",
    "# we do this bt defining a new variable and making it equal to my series not equal 5 \n",
    "# this will pull all the values that are not 'five'\n",
    "my_new_series"
   ]
  },
  {
   "cell_type": "markdown",
   "id": "52766cb9",
   "metadata": {},
   "source": [
    "# Vectorized Operations "
   ]
  },
  {
   "cell_type": "markdown",
   "id": "e765e789",
   "metadata": {},
   "source": [
    "- arithmetic operation \n",
    "- compersion operation "
   ]
  },
  {
   "cell_type": "code",
   "execution_count": 30,
   "id": "b8376ca3",
   "metadata": {},
   "outputs": [
    {
     "data": {
      "text/plain": [
       "0    0\n",
       "1    1\n",
       "2    1\n",
       "3    2\n",
       "4    3\n",
       "dtype: int64"
      ]
     },
     "execution_count": 30,
     "metadata": {},
     "output_type": "execute_result"
    }
   ],
   "source": [
    "fibi_series = pd.Series([0, 1, 1, 2, 3, 5, 8])\n",
    "\n",
    "fibi_series.head()\n"
   ]
  },
  {
   "cell_type": "code",
   "execution_count": 31,
   "id": "d5ac74e7",
   "metadata": {},
   "outputs": [
    {
     "data": {
      "text/plain": [
       "0    1\n",
       "1    2\n",
       "2    2\n",
       "3    3\n",
       "4    4\n",
       "5    6\n",
       "6    9\n",
       "dtype: int64"
      ]
     },
     "execution_count": 31,
     "metadata": {},
     "output_type": "execute_result"
    }
   ],
   "source": [
    "fibi_series + 1"
   ]
  },
  {
   "cell_type": "code",
   "execution_count": 32,
   "id": "0ffccc1f",
   "metadata": {},
   "outputs": [
    {
     "data": {
      "text/plain": [
       "0    0.0\n",
       "1    0.5\n",
       "2    0.5\n",
       "3    1.0\n",
       "4    1.5\n",
       "5    2.5\n",
       "6    4.0\n",
       "dtype: float64"
      ]
     },
     "execution_count": 32,
     "metadata": {},
     "output_type": "execute_result"
    }
   ],
   "source": [
    "fibi_series/2 \n"
   ]
  },
  {
   "cell_type": "code",
   "execution_count": 33,
   "id": "342371de",
   "metadata": {},
   "outputs": [
    {
     "data": {
      "text/plain": [
       "0    False\n",
       "1    False\n",
       "2    False\n",
       "3    False\n",
       "4    False\n",
       "5     True\n",
       "6     True\n",
       "dtype: bool"
      ]
     },
     "execution_count": 33,
     "metadata": {},
     "output_type": "execute_result"
    }
   ],
   "source": [
    "fibi_series >= 5"
   ]
  },
  {
   "cell_type": "code",
   "execution_count": 34,
   "id": "e0422320",
   "metadata": {},
   "outputs": [
    {
     "data": {
      "text/plain": [
       "0    False\n",
       "1    False\n",
       "2    False\n",
       "3    False\n",
       "4    False\n",
       "5    False\n",
       "6     True\n",
       "dtype: bool"
      ]
     },
     "execution_count": 34,
     "metadata": {},
     "output_type": "execute_result"
    }
   ],
   "source": [
    "(fibi_series >= 3) & (fibi_series % 2 == 0)\n",
    "# take notice how we "
   ]
  }
 ],
 "metadata": {
  "kernelspec": {
   "display_name": "Python 3 (ipykernel)",
   "language": "python",
   "name": "python3"
  },
  "language_info": {
   "codemirror_mode": {
    "name": "ipython",
    "version": 3
   },
   "file_extension": ".py",
   "mimetype": "text/x-python",
   "name": "python",
   "nbconvert_exporter": "python",
   "pygments_lexer": "ipython3",
   "version": "3.9.13"
  }
 },
 "nbformat": 4,
 "nbformat_minor": 5
}
