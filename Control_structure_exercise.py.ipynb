{
 "cells": [
  {
   "cell_type": "markdown",
   "id": "130caabd",
   "metadata": {},
   "source": [
    "### Conditional Statements Question 1"
   ]
  },
  {
   "cell_type": "code",
   "execution_count": null,
   "id": "8ce9b223",
   "metadata": {},
   "outputs": [],
   "source": [
    "def is_monday():\n",
    "    day_of_week = input(\"what day of the week is it? \\n \").upper()\n",
    "    if day_of_week == 'MONDAY':\n",
    "        print('Today is Monday!')\n",
    "    else:\n",
    "        print(\"it's not Moday\")"
   ]
  },
  {
   "cell_type": "code",
   "execution_count": null,
   "id": "110191bf",
   "metadata": {},
   "outputs": [],
   "source": [
    "is_monday()"
   ]
  },
  {
   "cell_type": "code",
   "execution_count": null,
   "id": "f630778d",
   "metadata": {},
   "outputs": [],
   "source": [
    "def is_weekend():\n",
    "    day = input(\"what day of the week is it? \").upper()\n",
    "    if day == 'SATURDAY' or day == 'SUNDAY':\n",
    "        print('its the weekend')\n",
    "    else:\n",
    "        print('Not the weekend')"
   ]
  },
  {
   "cell_type": "code",
   "execution_count": null,
   "id": "3aae40e2",
   "metadata": {},
   "outputs": [],
   "source": [
    "is_weekend()"
   ]
  },
  {
   "cell_type": "code",
   "execution_count": null,
   "id": "16ffc8be",
   "metadata": {},
   "outputs": [],
   "source": [
    "def paycheck_calc(): \n",
    "    wage = float(input('How much do you make an hour?\\n '))\n",
    "    hours = float(input('how many hours did you work? \\n'))\n",
    "    no_overtime_total = wage * hours\n",
    "    if hours > 40.0:\n",
    "        overtime_hours = hours - 40 \n",
    "        overtime_adjustment = (wage* 1.5) * overtime_hours\n",
    "    if hours > 40:\n",
    "        print ('You hit overtime, someone, somewhere is mad but its not you so lets party you should expect $' + str((wage * 40) + overtime_adjustment))\n",
    "    else:\n",
    "        print(f' you will make ${no_overtime_total}')\n",
    "    \n"
   ]
  },
  {
   "cell_type": "code",
   "execution_count": null,
   "id": "8e10eeb6",
   "metadata": {},
   "outputs": [],
   "source": [
    "paycheck_calc() \n"
   ]
  },
  {
   "cell_type": "code",
   "execution_count": null,
   "id": "a5e6b99f",
   "metadata": {},
   "outputs": [],
   "source": [
    "'''\n",
    "Loop Basics\n",
    "\n",
    "While\n",
    "\n",
    "Create an integer variable i with a value of 5. \n",
    "Create a while loop that runs so long as i is less than or equal to 15. \n",
    "Each loop iteration,\n",
    "output the current value of i, then increment i by one.\n",
    "\n",
    "'''"
   ]
  },
  {
   "cell_type": "code",
   "execution_count": null,
   "id": "7faa5ce0",
   "metadata": {},
   "outputs": [],
   "source": [
    "i = int(5)\n",
    "while i <= 15:\n",
    "    print(i)\n",
    "    i += 1"
   ]
  },
  {
   "cell_type": "code",
   "execution_count": null,
   "id": "a9c34f65",
   "metadata": {},
   "outputs": [],
   "source": [
    "i = 0 \n",
    "while i <= 100:\n",
    "    print(i)\n",
    "    i += 2"
   ]
  },
  {
   "cell_type": "code",
   "execution_count": null,
   "id": "35f3f3c7",
   "metadata": {},
   "outputs": [],
   "source": [
    "i = 100 \n",
    "while i >= -10:\n",
    "    print(i)\n",
    "    i -= 5"
   ]
  },
  {
   "cell_type": "code",
   "execution_count": null,
   "id": "35486b4d",
   "metadata": {},
   "outputs": [],
   "source": [
    "x = 2\n",
    "while x <= 1000000:\n",
    "    print(x)\n",
    "    x **= 2"
   ]
  },
  {
   "cell_type": "code",
   "execution_count": null,
   "id": "0805b507",
   "metadata": {},
   "outputs": [],
   "source": [
    "x = int(input(\"enter a whole number \"))\n",
    "y = 0\n",
    "for y in range (0,10):\n",
    "    y += 1\n",
    "    print(str(x )+ \" X \" + str(y )+ ' = ' + str(x*y))     \n",
    "    "
   ]
  },
  {
   "cell_type": "code",
   "execution_count": null,
   "id": "dbd98990",
   "metadata": {},
   "outputs": [],
   "source": [
    "for number in range (0,9):\n",
    "    number += 1\n",
    "    print(str(number)* number)"
   ]
  },
  {
   "cell_type": "code",
   "execution_count": 84,
   "id": "e8008389",
   "metadata": {},
   "outputs": [],
   "source": [
    "def count_down():\n",
    "    x = int(input('Please enter a positive integer\\n'))\n",
    "    while x >= 2:\n",
    "        x -= 1\n",
    "        print(x)"
   ]
  },
  {
   "cell_type": "code",
   "execution_count": 85,
   "id": "4effef8c",
   "metadata": {},
   "outputs": [
    {
     "name": "stdout",
     "output_type": "stream",
     "text": [
      "Please enter a positive integer\n",
      "6\n",
      "5\n",
      "4\n",
      "3\n",
      "2\n",
      "1\n"
     ]
    }
   ],
   "source": [
    "count_down()"
   ]
  },
  {
   "cell_type": "code",
   "execution_count": 108,
   "id": "975882d8",
   "metadata": {},
   "outputs": [
    {
     "ename": "SyntaxError",
     "evalue": "'break' outside loop (4140955650.py, line 7)",
     "output_type": "error",
     "traceback": [
      "\u001b[0;36m  File \u001b[0;32m\"/var/folders/30/cccszyfj19z85nmzb4bvgg5r0000gq/T/ipykernel_59419/4140955650.py\"\u001b[0;36m, line \u001b[0;32m7\u001b[0m\n\u001b[0;31m    break\u001b[0m\n\u001b[0m    ^\u001b[0m\n\u001b[0;31mSyntaxError\u001b[0m\u001b[0;31m:\u001b[0m 'break' outside loop\n"
     ]
    }
   ],
   "source": [
    "def is_odd():\n",
    "    x = int(input('Please enter a positive odd number'))\n",
    "    \n",
    "        \n",
    "    "
   ]
  },
  {
   "cell_type": "code",
   "execution_count": 106,
   "id": "d6d5a02a",
   "metadata": {},
   "outputs": [
    {
     "name": "stdout",
     "output_type": "stream",
     "text": [
      "Pick an odd number  ? \n",
      "1\n",
      "Nah fam i said an odd number\n"
     ]
    }
   ],
   "source": [
    "is_odd()"
   ]
  }
 ],
 "metadata": {
  "kernelspec": {
   "display_name": "Python 3 (ipykernel)",
   "language": "python",
   "name": "python3"
  },
  "language_info": {
   "codemirror_mode": {
    "name": "ipython",
    "version": 3
   },
   "file_extension": ".py",
   "mimetype": "text/x-python",
   "name": "python",
   "nbconvert_exporter": "python",
   "pygments_lexer": "ipython3",
   "version": "3.9.13"
  }
 },
 "nbformat": 4,
 "nbformat_minor": 5
}
