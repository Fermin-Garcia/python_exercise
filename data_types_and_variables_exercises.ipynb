{
 "cells": [
  {
   "cell_type": "code",
   "execution_count": 58,
   "id": "55bec5d3",
   "metadata": {},
   "outputs": [
    {
     "name": "stdout",
     "output_type": "stream",
     "text": [
      "27\n"
     ]
    }
   ],
   "source": [
    "little_mermaid = 3 \n",
    "brother_bear = 5 \n",
    "hercules = 1\n",
    "\n",
    "\n",
    "\n",
    "\n",
    "print((little_mermaid + brother_bear + hercules) * 3 )\n"
   ]
  },
  {
   "cell_type": "code",
   "execution_count": null,
   "id": "b684c7ef",
   "metadata": {},
   "outputs": [],
   "source": [
    "# number 6 "
   ]
  },
  {
   "cell_type": "code",
   "execution_count": 2,
   "id": "ae772de4",
   "metadata": {},
   "outputs": [],
   "source": [
    "def hours_worked():\n",
    "    google = int(input('How many hours did you work at Google? \\n '))\n",
    "    amazon = int(input('How many hours did you work at Amazon? \\n'))\n",
    "    facebook = int(input('How many hours did you work at Facebook? \\n'))\n",
    "    total_amount = (google * 400) + (amazon * 380) + (facebook * 350)\n",
    "    print(f'Look at you go! this week you will make ${total_amount}')"
   ]
  },
  {
   "cell_type": "code",
   "execution_count": 3,
   "id": "0537732a",
   "metadata": {},
   "outputs": [
    {
     "name": "stdout",
     "output_type": "stream",
     "text": [
      "How many hours did you work at Google? \n",
      " 6\n",
      "How many hours did you work at Amazon? \n",
      "4\n",
      "How many hours did you work at Facebook? \n",
      "10\n",
      "Look at you go! this week you will make $7420\n"
     ]
    }
   ],
   "source": [
    "hours_worked()"
   ]
  },
  {
   "cell_type": "code",
   "execution_count": 7,
   "id": "0f6c9787",
   "metadata": {},
   "outputs": [
    {
     "data": {
      "text/plain": [
       "''"
      ]
     },
     "execution_count": 7,
     "metadata": {},
     "output_type": "execute_result"
    }
   ],
   "source": [
    "'''\n",
    "\n",
    "7. A student can be enrolled to\n",
    "a class only if the class is not full and \n",
    "the class schedule does not conflict with \n",
    "her current schedule.\n",
    "\n",
    "'''"
   ]
  },
  {
   "cell_type": "code",
   "execution_count": null,
   "id": "266d19ec",
   "metadata": {},
   "outputs": [],
   "source": [
    "'''\n",
    "\n",
    "Reference code \n",
    "\n",
    "\n",
    "\n",
    "\n",
    "'''"
   ]
  },
  {
   "cell_type": "code",
   "execution_count": 46,
   "id": "e526b34c",
   "metadata": {},
   "outputs": [],
   "source": [
    "def can_take_class():\n",
    "    is_class_full = input('is the class full? (Y/N) \\n').upper()\n",
    "    if is_class_full == 'Y':\n",
    "        is_class_full = True\n",
    "    else:\n",
    "        is_class_full =  False\n",
    "    \n",
    "    conflicts = input('does the class conflict with schedule?  (Y/N) \\n').upper()\n",
    "    if conflicts == 'Y':\n",
    "        conflicts =  True\n",
    "    else:\n",
    "        conflicts = False\n",
    "    \n",
    "    if is_class_full == True or conflicts == True:\n",
    "        print('Sorry you cannot take this class')\n",
    "    else:\n",
    "        print('you can take the class!')\n",
    "    \n",
    "    \n",
    " "
   ]
  },
  {
   "cell_type": "code",
   "execution_count": 48,
   "id": "8ebc745d",
   "metadata": {},
   "outputs": [
    {
     "name": "stdout",
     "output_type": "stream",
     "text": [
      "is the class full? (Y/N) \n",
      "y\n",
      "does the class conflict with schedule?  (Y/N) \n",
      "n\n",
      "Sorry you cannot take this class\n"
     ]
    }
   ],
   "source": [
    "can_take_class()\n"
   ]
  },
  {
   "cell_type": "code",
   "execution_count": null,
   "id": "fcfe8e5b",
   "metadata": {},
   "outputs": [],
   "source": [
    "'''\n",
    "\n",
    "A product offer can be applied only if people buys more than 2 items, \n",
    "and the offer has not expired. \n",
    "Premium members do not need to buy a specific amount of products.\n",
    "\n",
    "'''"
   ]
  },
  {
   "cell_type": "code",
   "execution_count": 80,
   "id": "26ea6f91",
   "metadata": {},
   "outputs": [],
   "source": [
    "def offer_checker():\n",
    "    rewards_status = input(\"Are you a rewards memeber? (Y/N)\\n\").upper\n",
    "    if rewards_status == 'Y':\n",
    "        rewards_status = True\n",
    "    else:\n",
    "        rewards_status = False \n",
    "    quanity_req = int(input('how many items in this offer are being bought \\n')) \n",
    "    if quanity_req >=  2:\n",
    "        quanity_req = True\n",
    "    else:\n",
    "        quanity_req = False \n",
    "    \n",
    "    valid_offer = input(\"is the offer expired? (Y/N)\\n\").upper()\n",
    "    if valid_offer == 'N':\n",
    "        valid_offer = True\n",
    "    else:\n",
    "        valid_offer = False \n",
    "    \n",
    "    if rewards_status == True and valid_offer == True :\n",
    "        print(\"You qualify for this offer\")\n",
    "    elif quanity_req >= 2 and (quanity_req >=2 , ):\n",
    "        print('Congratulations! You qualify for this offer!')\n",
    "    else:\n",
    "        print('Sorry you don\\'t qualify for this offer')\n"
   ]
  },
  {
   "cell_type": "code",
   "execution_count": 81,
   "id": "8b714fe5",
   "metadata": {},
   "outputs": [
    {
     "name": "stdout",
     "output_type": "stream",
     "text": [
      "Are you a rewards memeber? (Y/N)\n",
      "y\n",
      "how many items in this offer are being bought \n",
      "1\n",
      "is the offer expired? (Y/N)\n",
      "n\n",
      "Sorry you don't qualify for this offer\n"
     ]
    }
   ],
   "source": [
    "offer_checker()"
   ]
  },
  {
   "cell_type": "code",
   "execution_count": null,
   "id": "5a80a87d",
   "metadata": {},
   "outputs": [],
   "source": []
  }
 ],
 "metadata": {
  "kernelspec": {
   "display_name": "Python 3 (ipykernel)",
   "language": "python",
   "name": "python3"
  },
  "language_info": {
   "codemirror_mode": {
    "name": "ipython",
    "version": 3
   },
   "file_extension": ".py",
   "mimetype": "text/x-python",
   "name": "python",
   "nbconvert_exporter": "python",
   "pygments_lexer": "ipython3",
   "version": "3.9.13"
  }
 },
 "nbformat": 4,
 "nbformat_minor": 5
}
