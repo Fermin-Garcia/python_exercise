{
 "cells": [
  {
   "cell_type": "markdown",
   "id": "130caabd",
   "metadata": {},
   "source": [
    "### Conditional Statements Question 1"
   ]
  },
  {
   "cell_type": "code",
   "execution_count": null,
   "id": "8ce9b223",
   "metadata": {},
   "outputs": [],
   "source": [
    "def is_monday():\n",
    "    day_of_week = input(\"what day of the week is it? \\n \").upper()\n",
    "    if day_of_week == 'MONDAY':\n",
    "        print('Today is Monday!')\n",
    "    else:\n",
    "        print(\"it's not Moday\")"
   ]
  },
  {
   "cell_type": "code",
   "execution_count": null,
   "id": "110191bf",
   "metadata": {},
   "outputs": [],
   "source": [
    "is_monday()"
   ]
  },
  {
   "cell_type": "code",
   "execution_count": null,
   "id": "f630778d",
   "metadata": {},
   "outputs": [],
   "source": [
    "def is_weekend():\n",
    "    day = input(\"what day of the week is it? \").upper()\n",
    "    if day == 'SATURDAY' or day == 'SUNDAY':\n",
    "        print('its the weekend')\n",
    "    else:\n",
    "        print('Not the weekend')"
   ]
  },
  {
   "cell_type": "code",
   "execution_count": null,
   "id": "3aae40e2",
   "metadata": {},
   "outputs": [],
   "source": [
    "is_weekend()"
   ]
  },
  {
   "cell_type": "code",
   "execution_count": null,
   "id": "16ffc8be",
   "metadata": {},
   "outputs": [],
   "source": [
    "def paycheck_calc(): \n",
    "    wage = float(input('How much do you make an hour?\\n '))\n",
    "    hours = float(input('how many hours did you work? \\n'))\n",
    "    no_overtime_total = wage * hours\n",
    "    if hours > 40.0:\n",
    "        overtime_hours = hours - 40 \n",
    "        overtime_adjustment = (wage* 1.5) * overtime_hours\n",
    "    if hours > 40:\n",
    "        print ('You hit overtime, someone, somewhere is mad but its not you so lets party you should expect $' + str((wage * 40) + overtime_adjustment))\n",
    "    else:\n",
    "        print(f' you will make ${no_overtime_total}')\n",
    "    \n"
   ]
  },
  {
   "cell_type": "code",
   "execution_count": null,
   "id": "8e10eeb6",
   "metadata": {},
   "outputs": [],
   "source": [
    "paycheck_calc() \n"
   ]
  },
  {
   "cell_type": "code",
   "execution_count": null,
   "id": "a5e6b99f",
   "metadata": {},
   "outputs": [],
   "source": [
    "'''\n",
    "Loop Basics\n",
    "\n",
    "While\n",
    "\n",
    "Create an integer variable i with a value of 5. \n",
    "Create a while loop that runs so long as i is less than or equal to 15. \n",
    "Each loop iteration,\n",
    "output the current value of i, then increment i by one.\n",
    "\n",
    "'''"
   ]
  },
  {
   "cell_type": "code",
   "execution_count": null,
   "id": "7faa5ce0",
   "metadata": {},
   "outputs": [],
   "source": [
    "i = int(5)\n",
    "while i <= 15:\n",
    "    print(i)\n",
    "    i += 1"
   ]
  },
  {
   "cell_type": "code",
   "execution_count": null,
   "id": "a9c34f65",
   "metadata": {},
   "outputs": [],
   "source": [
    "i = 0 \n",
    "while i <= 100:\n",
    "    print(i)\n",
    "    i += 2"
   ]
  },
  {
   "cell_type": "code",
   "execution_count": null,
   "id": "35f3f3c7",
   "metadata": {},
   "outputs": [],
   "source": [
    "i = 100 \n",
    "while i >= -10:\n",
    "    print(i)\n",
    "    i -= 5"
   ]
  },
  {
   "cell_type": "code",
   "execution_count": null,
   "id": "35486b4d",
   "metadata": {},
   "outputs": [],
   "source": [
    "x = 2\n",
    "while x <= 1000000:\n",
    "    print(x)\n",
    "    x **= 2"
   ]
  },
  {
   "cell_type": "code",
   "execution_count": null,
   "id": "0805b507",
   "metadata": {},
   "outputs": [],
   "source": [
    "x = int(input(\"enter a whole number \"))\n",
    "y = 0\n",
    "for y in range (0,10):\n",
    "    y += 1\n",
    "    print(str(x )+ \" X \" + str(y )+ ' = ' + str(x*y))     \n",
    "    "
   ]
  },
  {
   "cell_type": "code",
   "execution_count": null,
   "id": "dbd98990",
   "metadata": {},
   "outputs": [],
   "source": [
    "for number in range (0,9):\n",
    "    number += 1\n",
    "    print(str(number)* number)"
   ]
  },
  {
   "cell_type": "code",
   "execution_count": null,
   "id": "e8008389",
   "metadata": {},
   "outputs": [],
   "source": [
    "def count_down():\n",
    "    x = int(input('Please enter a positive integer\\n'))\n",
    "    while x >= 2:\n",
    "        x -= 1\n",
    "        print(x)"
   ]
  },
  {
   "cell_type": "code",
   "execution_count": null,
   "id": "4effef8c",
   "metadata": {},
   "outputs": [],
   "source": [
    "count_down()"
   ]
  },
  {
   "cell_type": "markdown",
   "id": "bb1983d7",
   "metadata": {},
   "source": [
    "# Do this \n",
    "\n",
    "#### (Hint: use the isdigit method on strings to determine this). \n",
    "\n",
    "- Prompt the user for an odd number between 1 and 50.\n",
    "- Use a loop and a break statement to continue prompting the user if they enter invalid input. \n",
    "- Use a loop and the continue statement to output all the odd numbers between 1 and 50, except for the number the user entered."
   ]
  },
  {
   "cell_type": "code",
   "execution_count": 23,
   "id": "d6d5a02a",
   "metadata": {},
   "outputs": [],
   "source": [
    "def is_odd():\n",
    "    x = input('Please enter an odd number between 1 - 50: ')\n",
    "    while not x.isdigit() or int(x) % 2 == 0 or int(x) > 50:\n",
    "        print(\"Bro, listen closely, an ODD NUMBER between 1 - 50\")\n",
    "        x = input('Please enter an odd number between 1 - 50: ')\n",
    "    for odd_number in range(1, 51, 2):\n",
    "        if odd_number == int(x):\n",
    "            print(\"Yikes, this is awkward: \", x)\n",
    "        else:\n",
    "            print('Here is an Odd Number: ', odd_number)\n",
    "\n"
   ]
  },
  {
   "cell_type": "markdown",
   "id": "32282be9",
   "metadata": {},
   "source": [
    "is_odd()"
   ]
  },
  {
   "cell_type": "markdown",
   "id": "13170dd9",
   "metadata": {},
   "source": [
    "# Fizz Bizz exercise \n",
    "\n",
    "-  write a program that will print the numbers from 1 - 100\n",
    "-  for multiples of 3's print Fizz instead of the number \n",
    "-  for multiples of 5's print Buzz\n",
    "-  for numbers where they are both multiple of 3's and multiples of 5's print FizzBuzz"
   ]
  },
  {
   "cell_type": "code",
   "execution_count": 31,
   "id": "a8675237",
   "metadata": {},
   "outputs": [
    {
     "name": "stdout",
     "output_type": "stream",
     "text": [
      "1\n",
      "2\n",
      "Fizz\n",
      "4\n",
      "Buzz\n",
      "Fizz\n",
      "7\n",
      "8\n",
      "Fizz\n",
      "Buzz\n",
      "11\n",
      "Fizz\n",
      "13\n",
      "14\n",
      "FizBuzz\n",
      "16\n",
      "17\n",
      "Fizz\n",
      "19\n",
      "Buzz\n",
      "Fizz\n",
      "22\n",
      "23\n",
      "Fizz\n",
      "Buzz\n",
      "26\n",
      "Fizz\n",
      "28\n",
      "29\n",
      "FizBuzz\n",
      "31\n",
      "32\n",
      "Fizz\n",
      "34\n",
      "Buzz\n",
      "Fizz\n",
      "37\n",
      "38\n",
      "Fizz\n",
      "Buzz\n",
      "41\n",
      "Fizz\n",
      "43\n",
      "44\n",
      "FizBuzz\n",
      "46\n",
      "47\n",
      "Fizz\n",
      "49\n",
      "Buzz\n",
      "Fizz\n",
      "52\n",
      "53\n",
      "Fizz\n",
      "Buzz\n",
      "56\n",
      "Fizz\n",
      "58\n",
      "59\n",
      "FizBuzz\n",
      "61\n",
      "62\n",
      "Fizz\n",
      "64\n",
      "Buzz\n",
      "Fizz\n",
      "67\n",
      "68\n",
      "Fizz\n",
      "Buzz\n",
      "71\n",
      "Fizz\n",
      "73\n",
      "74\n",
      "FizBuzz\n",
      "76\n",
      "77\n",
      "Fizz\n",
      "79\n",
      "Buzz\n",
      "Fizz\n",
      "82\n",
      "83\n",
      "Fizz\n",
      "Buzz\n",
      "86\n",
      "Fizz\n",
      "88\n",
      "89\n",
      "FizBuzz\n",
      "91\n",
      "92\n",
      "Fizz\n",
      "94\n",
      "Buzz\n",
      "Fizz\n",
      "97\n",
      "98\n",
      "Fizz\n",
      "Buzz\n"
     ]
    }
   ],
   "source": [
    "for n in range(1,101):\n",
    "    if n % 3 == 0 and n % 5 == 0:\n",
    "        print('FizBuzz')\n",
    "    elif n % 3 == 0:\n",
    "        print('Fizz')\n",
    "    elif n % 5 == 0:\n",
    "        print('Buzz')\n",
    "    else:\n",
    "        print(n)"
   ]
  },
  {
   "cell_type": "markdown",
   "id": "87a476a7",
   "metadata": {},
   "source": [
    "# Display a table of powers.\n",
    "\n",
    "- Prompt the user to enter an integer\n",
    "- Display a table of squares and cubes from 1 to the value entered\n",
    "- Ask if the user wants to continue\n",
    "- Assume that the user will enter valid data\n",
    "- Only continue if the user agrees to\n",
    "\n",
    "\n",
    "### Example Output\n",
    "\n",
    "```\n",
    "What number would you like to go up to? 5\n",
    "\n",
    "Here is your table!\n",
    "\n",
    "number | squared | cubed\n",
    "------ | ------- | -----\n",
    "1      | 1       | 1\n",
    "2      | 4       | 8\n",
    "3      | 9       | 27\n",
    "4      | 16      | 64\n",
    "5      | 25      | 125\n",
    "```\n"
   ]
  },
  {
   "cell_type": "code",
   "execution_count": null,
   "id": "47c7467c",
   "metadata": {},
   "outputs": [],
   "source": [
    "while True:\n",
    "    num = int(input(\"What number would you like to go up to? \"))\n",
    "    print(\"Here is your table!\\n\")\n",
    "    print(\"number | squared | cubed\")\n",
    "    print(\"------ | ------- | -----\")\n",
    "    for i in range(1, num+1):\n",
    "        print(\"{:<6d}|{:<9d}|{:<6d}\".format(i, i**2, i**3))\n",
    "    print(\"\\n\")\n",
    "    choice = input(\"Do you want to continue? (y/n) \")\n",
    "    if choice.lower() != 'y':\n",
    "        break\n"
   ]
  },
  {
   "cell_type": "code",
   "execution_count": 15,
   "id": "3919ff99",
   "metadata": {},
   "outputs": [
    {
     "name": "stdout",
     "output_type": "stream",
     "text": [
      "enter the number grade! 87\n",
      "B\n"
     ]
    }
   ],
   "source": [
    "grade = float(input('enter the number grade! '))\n",
    "\n",
    "if grade <= 59.99:\n",
    "    print('F')\n",
    "elif grade <= 66.99:\n",
    "    print('D')\n",
    "elif grade <= 79.99:\n",
    "    print('B')\n",
    "elif grade <= 87.99:\n",
    "    print('B')    \n",
    "elif grade <= 100.00:\n",
    "    print('A')\n",
    "else:\n",
    "    print('how did i get here ??')"
   ]
  },
  {
   "cell_type": "code",
   "execution_count": 32,
   "id": "d3b0f6c0",
   "metadata": {},
   "outputs": [
    {
     "name": "stdout",
     "output_type": "stream",
     "text": [
      "The Great Gatsby by F. Scott Fitzgerald, Fiction\n",
      "1984 by George Orwell, Science Fiction\n",
      "To Kill a Mockingbird by Harper Lee, Fiction\n",
      "The Lord of the Rings by J.R.R. Tolkien, Fantasy\n",
      "The Hitchhiker's Guide to the Galaxy by Douglas Adams, Science Fiction\n",
      "Enter a genre to search for books: fiction\n"
     ]
    }
   ],
   "source": [
    "books = [\n",
    "    {'title': 'The Great Gatsby', 'author': 'F. Scott Fitzgerald', 'genre': 'Fiction'},\n",
    "    {'title': '1984', 'author': 'George Orwell', 'genre': 'Science Fiction'},\n",
    "    {'title': 'To Kill a Mockingbird', 'author': 'Harper Lee', 'genre': 'Fiction'},\n",
    "    {'title': 'The Lord of the Rings', 'author': 'J.R.R. Tolkien', 'genre': 'Fantasy'},\n",
    "    {'title': 'The Hitchhiker\\'s Guide to the Galaxy', 'author': 'Douglas Adams', 'genre': 'Science Fiction'}\n",
    "]\n",
    "\n",
    "\n",
    "for book in books:\n",
    "    print(f\"{book['title']} by {book['author']}, {book['genre']}\")\n",
    "genre = input(\"Enter a genre to search for books: \")\n",
    "\n",
    "for book in books:\n",
    "    if book['genre'] == genre:\n",
    "        print(book['title'])\n"
   ]
  }
 ],
 "metadata": {
  "kernelspec": {
   "display_name": "Python 3 (ipykernel)",
   "language": "python",
   "name": "python3"
  },
  "language_info": {
   "codemirror_mode": {
    "name": "ipython",
    "version": 3
   },
   "file_extension": ".py",
   "mimetype": "text/x-python",
   "name": "python",
   "nbconvert_exporter": "python",
   "pygments_lexer": "ipython3",
   "version": "3.9.13"
  }
 },
 "nbformat": 4,
 "nbformat_minor": 5
}
