{
 "cells": [
  {
   "cell_type": "code",
   "execution_count": 25,
   "id": "74ea4d62",
   "metadata": {},
   "outputs": [
    {
     "name": "stdout",
     "output_type": "stream",
     "text": [
      "True\n"
     ]
    }
   ],
   "source": [
    "#WORKING CODE\n",
    "import os \n",
    "\n",
    "def view_balance():\n",
    "    with open('balance.txt', 'r') as f:\n",
    "        balance = f.read()\n",
    "        print('Your Balance is '+ balance)"
   ]
  },
  {
   "cell_type": "code",
   "execution_count": 9,
   "id": "4665ceb4",
   "metadata": {},
   "outputs": [],
   "source": [
    "# CODE CURRENTLY IN WORK \n",
    "def add_debit():\n",
    "    with open('balance.txt', 'w') as b:\n",
    "        current_bal = b.read('balance.txt').replace('$','')\n",
    "        print(current_bal)\n",
    "\n",
    "\n",
    "\n"
   ]
  },
  {
   "cell_type": "code",
   "execution_count": null,
   "id": "2411edca",
   "metadata": {},
   "outputs": [],
   "source": []
  },
  {
   "cell_type": "code",
   "execution_count": null,
   "id": "cc03f0e1",
   "metadata": {},
   "outputs": [],
   "source": []
  },
  {
   "cell_type": "code",
   "execution_count": null,
   "id": "bc3e0889",
   "metadata": {},
   "outputs": [],
   "source": [
    "# CODE THAT NEEDS TO BE FINISHED \n",
    "\n",
    "\n",
    "def exit():\n",
    "    exit_menu = input('are you sure you would like to exit \\n YES = Y or No = N' ).upper\n",
    "    if exit_menu == 'Y':\n",
    "        print('Have a great Day')\n",
    "    else: \n",
    "        menu()\n",
    "def menu():\n",
    "    menu_op = int(input('''\n",
    "        Enter a menu number to view that menu.\n",
    "        1. View Balance \n",
    "        2. Record a debit (withdraw)\n",
    "        3. Record a credit (credit)\n",
    "        4. Exit \n",
    "    '''))\n",
    "    if menu_op == 1: \n",
    "        view_bal()\n",
    "    elif menu_op == 2:\n",
    "        debit()\n",
    "    elif menu_op == 3: \n",
    "        credit()\n",
    "    elif menu_op == 4:\n",
    "        exit()\n",
    "    else:\n",
    "        menu_op = int(input('Enter the NUMBER of the menu')) "
   ]
  },
  {
   "cell_type": "code",
   "execution_count": null,
   "id": "f0666416",
   "metadata": {},
   "outputs": [],
   "source": [
    "## CODE THAT MAY BE NEEDED LATER \n",
    "\n",
    "def view_balance():\n",
    "    with open('balance.txt', 'r') as f:\n",
    "        balance = f.read()\n",
    "        print('Your Balance is '+ balance)\n",
    "\n",
    "def menu():\n",
    "    menu_op = int(input('''\n",
    "        Enter a menu number to view that menu.\n",
    "        1. View Balance \n",
    "        2. Record a debit (withdraw)\n",
    "        3. Record a credit (credit)\n",
    "        4. Exit \n",
    "    '''))\n",
    "    if menu_op == 1: \n",
    "        view_bal()\n",
    "    elif menu_op == 2:\n",
    "        debit()\n",
    "    elif menu_op == 3: \n",
    "        credit()\n",
    "    elif menu_op == 4:\n",
    "        exit()\n",
    "    else:\n",
    "        menu_op = int(input('Enter the NUMBER of the menu'))   "
   ]
  }
 ],
 "metadata": {
  "kernelspec": {
   "display_name": "Python 3 (ipykernel)",
   "language": "python",
   "name": "python3"
  },
  "language_info": {
   "codemirror_mode": {
    "name": "ipython",
    "version": 3
   },
   "file_extension": ".py",
   "mimetype": "text/x-python",
   "name": "python",
   "nbconvert_exporter": "python",
   "pygments_lexer": "ipython3",
   "version": "3.9.13"
  }
 },
 "nbformat": 4,
 "nbformat_minor": 5
}
