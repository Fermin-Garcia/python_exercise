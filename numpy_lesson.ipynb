{
 "cells": [
  {
   "cell_type": "markdown",
   "id": "7b7b1f0a",
   "metadata": {},
   "source": [
    "# Numpy"
   ]
  },
  {
   "cell_type": "markdown",
   "id": "55a9908c",
   "metadata": {},
   "source": [
    "https://numpy.org/"
   ]
  },
  {
   "cell_type": "markdown",
   "id": "440bda83",
   "metadata": {},
   "source": [
    "## What is it? \n",
    "- Numpy is a Python library used for working with arrays\n",
    "- Numpy is the fundamental package for scientific computing in Python\n",
    "\n",
    "\n",
    "## Why do we care? \n",
    "- Numpy is one of the main reasons why Python is so powerful and popular for scientific computing\n",
    "- Super fast. Numpy arrays are implemented in C, which makes numpy very fast.\n",
    "- The arrays allows for vectorized operations"
   ]
  },
  {
   "cell_type": "markdown",
   "id": "03c48268",
   "metadata": {},
   "source": [
    "## Show us! "
   ]
  },
  {
   "cell_type": "markdown",
   "id": "9038f254",
   "metadata": {},
   "source": [
    "### Create a 1D array"
   ]
  },
  {
   "cell_type": "markdown",
   "id": "d0f99731",
   "metadata": {},
   "source": [
    "#### create a list\n",
    "format: list()"
   ]
  },
  {
   "cell_type": "code",
   "execution_count": 4,
   "id": "f15cdc69",
   "metadata": {},
   "outputs": [],
   "source": [
    "#create a list\n",
    "my_list = ([1,2,3,4])"
   ]
  },
  {
   "cell_type": "code",
   "execution_count": 438,
   "id": "74149412",
   "metadata": {},
   "outputs": [],
   "source": [
    "#whats the type\n"
   ]
  },
  {
   "cell_type": "code",
   "execution_count": 459,
   "id": "04eaae7c",
   "metadata": {},
   "outputs": [],
   "source": [
    "#what is dtype\n"
   ]
  },
  {
   "cell_type": "code",
   "execution_count": 460,
   "id": "597fa063",
   "metadata": {},
   "outputs": [],
   "source": [
    "#whats the shape\n"
   ]
  },
  {
   "cell_type": "markdown",
   "id": "778135e3",
   "metadata": {},
   "source": [
    "#### create an array\n",
    "format: np.array()"
   ]
  },
  {
   "cell_type": "code",
   "execution_count": 10,
   "id": "3d729e6a",
   "metadata": {},
   "outputs": [],
   "source": [
    "#import numpy\n",
    "import numpy as np"
   ]
  },
  {
   "cell_type": "code",
   "execution_count": 6,
   "id": "6db8179d",
   "metadata": {},
   "outputs": [],
   "source": [
    "#create the array\n",
    "my_array = np.array(my_list)"
   ]
  },
  {
   "cell_type": "code",
   "execution_count": 7,
   "id": "450160cd",
   "metadata": {},
   "outputs": [
    {
     "data": {
      "text/plain": [
       "numpy.ndarray"
      ]
     },
     "execution_count": 7,
     "metadata": {},
     "output_type": "execute_result"
    }
   ],
   "source": [
    "#whats the type\n",
    "type(my_array)"
   ]
  },
  {
   "cell_type": "code",
   "execution_count": 8,
   "id": "df625332",
   "metadata": {},
   "outputs": [
    {
     "data": {
      "text/plain": [
       "(4,)"
      ]
     },
     "execution_count": 8,
     "metadata": {},
     "output_type": "execute_result"
    }
   ],
   "source": [
    "#whats the shape\n",
    "my_array.shape"
   ]
  },
  {
   "cell_type": "markdown",
   "id": "cf4bf9dd",
   "metadata": {},
   "source": [
    "#### access elements of our new array"
   ]
  },
  {
   "cell_type": "code",
   "execution_count": 9,
   "id": "39cadfdc",
   "metadata": {},
   "outputs": [
    {
     "data": {
      "text/plain": [
       "array([1, 2, 3, 4])"
      ]
     },
     "execution_count": 9,
     "metadata": {},
     "output_type": "execute_result"
    }
   ],
   "source": [
    "my_array"
   ]
  },
  {
   "cell_type": "code",
   "execution_count": 10,
   "id": "cb3fe38c",
   "metadata": {},
   "outputs": [
    {
     "data": {
      "text/plain": [
       "1"
      ]
     },
     "execution_count": 10,
     "metadata": {},
     "output_type": "execute_result"
    }
   ],
   "source": [
    "my_array[0]"
   ]
  },
  {
   "cell_type": "code",
   "execution_count": 11,
   "id": "49805962",
   "metadata": {},
   "outputs": [
    {
     "data": {
      "text/plain": [
       "4"
      ]
     },
     "execution_count": 11,
     "metadata": {},
     "output_type": "execute_result"
    }
   ],
   "source": [
    "my_array[-1]"
   ]
  },
  {
   "cell_type": "markdown",
   "id": "9cad9417",
   "metadata": {},
   "source": [
    "#### slice the array"
   ]
  },
  {
   "cell_type": "code",
   "execution_count": 12,
   "id": "69ed99ed",
   "metadata": {},
   "outputs": [
    {
     "data": {
      "text/plain": [
       "array([2, 3, 4])"
      ]
     },
     "execution_count": 12,
     "metadata": {},
     "output_type": "execute_result"
    }
   ],
   "source": [
    "my_array[1:] # inclusive for the first element"
   ]
  },
  {
   "cell_type": "code",
   "execution_count": 13,
   "id": "848128b8",
   "metadata": {},
   "outputs": [
    {
     "data": {
      "text/plain": [
       "array([1, 2])"
      ]
     },
     "execution_count": 13,
     "metadata": {},
     "output_type": "execute_result"
    }
   ],
   "source": [
    "my_array[:2]"
   ]
  },
  {
   "cell_type": "code",
   "execution_count": null,
   "id": "91fb45bc",
   "metadata": {},
   "outputs": [],
   "source": []
  },
  {
   "cell_type": "markdown",
   "id": "4e8e8e73",
   "metadata": {},
   "source": [
    "#### create an array from 1 to 100"
   ]
  },
  {
   "cell_type": "code",
   "execution_count": 15,
   "id": "ae0d8f6f",
   "metadata": {},
   "outputs": [],
   "source": [
    "#np.array(?)\n",
    "a = np.array(range(1,101))"
   ]
  },
  {
   "cell_type": "code",
   "execution_count": 17,
   "id": "2699c6a4",
   "metadata": {},
   "outputs": [
    {
     "data": {
      "text/plain": [
       "1"
      ]
     },
     "execution_count": 17,
     "metadata": {},
     "output_type": "execute_result"
    }
   ],
   "source": [
    "#access single element\n",
    "a[0]"
   ]
  },
  {
   "cell_type": "code",
   "execution_count": 18,
   "id": "6a749fda",
   "metadata": {},
   "outputs": [
    {
     "data": {
      "text/plain": [
       "array([ 26,  27,  28,  29,  30,  31,  32,  33,  34,  35,  36,  37,  38,\n",
       "        39,  40,  41,  42,  43,  44,  45,  46,  47,  48,  49,  50,  51,\n",
       "        52,  53,  54,  55,  56,  57,  58,  59,  60,  61,  62,  63,  64,\n",
       "        65,  66,  67,  68,  69,  70,  71,  72,  73,  74,  75,  76,  77,\n",
       "        78,  79,  80,  81,  82,  83,  84,  85,  86,  87,  88,  89,  90,\n",
       "        91,  92,  93,  94,  95,  96,  97,  98,  99, 100])"
      ]
     },
     "execution_count": 18,
     "metadata": {},
     "output_type": "execute_result"
    }
   ],
   "source": [
    "#slice the array! \n",
    "a[25:]"
   ]
  },
  {
   "cell_type": "markdown",
   "id": "9dadb768",
   "metadata": {},
   "source": [
    "### Create a 2D array"
   ]
  },
  {
   "cell_type": "code",
   "execution_count": 20,
   "id": "4cfd2e1c",
   "metadata": {},
   "outputs": [],
   "source": [
    "#build a list of lists\n",
    "matrix = [[1,2,3],\n",
    "  [2,3,4],\n",
    "  [6,7,8]]"
   ]
  },
  {
   "cell_type": "code",
   "execution_count": 21,
   "id": "f89755f1",
   "metadata": {},
   "outputs": [
    {
     "data": {
      "text/plain": [
       "list"
      ]
     },
     "execution_count": 21,
     "metadata": {},
     "output_type": "execute_result"
    }
   ],
   "source": [
    "type(matrix)"
   ]
  },
  {
   "cell_type": "code",
   "execution_count": 22,
   "id": "dad05056",
   "metadata": {},
   "outputs": [],
   "source": [
    "#turn it into an array! \n",
    "matrix_array = np.array(matrix)"
   ]
  },
  {
   "cell_type": "code",
   "execution_count": 23,
   "id": "aed9eab5",
   "metadata": {},
   "outputs": [
    {
     "data": {
      "text/plain": [
       "numpy.ndarray"
      ]
     },
     "execution_count": 23,
     "metadata": {},
     "output_type": "execute_result"
    }
   ],
   "source": [
    "#type\n",
    "type(matrix_array)"
   ]
  },
  {
   "cell_type": "markdown",
   "id": "94098dd1",
   "metadata": {},
   "source": [
    "#### access elements"
   ]
  },
  {
   "cell_type": "code",
   "execution_count": 24,
   "id": "0893d321",
   "metadata": {},
   "outputs": [
    {
     "data": {
      "text/plain": [
       "array([1, 2, 3])"
      ]
     },
     "execution_count": 24,
     "metadata": {},
     "output_type": "execute_result"
    }
   ],
   "source": [
    "matrix_array[0]"
   ]
  },
  {
   "cell_type": "code",
   "execution_count": null,
   "id": "fc8200c4",
   "metadata": {},
   "outputs": [],
   "source": []
  },
  {
   "cell_type": "code",
   "execution_count": null,
   "id": "ab6b7915",
   "metadata": {},
   "outputs": [],
   "source": []
  },
  {
   "cell_type": "markdown",
   "id": "60757d69",
   "metadata": {},
   "source": [
    "### Descriptive Stats"
   ]
  },
  {
   "cell_type": "code",
   "execution_count": 25,
   "id": "502f7cb5",
   "metadata": {},
   "outputs": [
    {
     "data": {
      "text/plain": [
       "1"
      ]
     },
     "execution_count": 25,
     "metadata": {},
     "output_type": "execute_result"
    }
   ],
   "source": [
    "a.min()"
   ]
  },
  {
   "cell_type": "markdown",
   "id": "a094e496",
   "metadata": {},
   "source": [
    "#### using methods: the method is called on the numpy object"
   ]
  },
  {
   "cell_type": "code",
   "execution_count": 26,
   "id": "d464bd47",
   "metadata": {},
   "outputs": [
    {
     "data": {
      "text/plain": [
       "1"
      ]
     },
     "execution_count": 26,
     "metadata": {},
     "output_type": "execute_result"
    }
   ],
   "source": [
    "a.min()"
   ]
  },
  {
   "cell_type": "code",
   "execution_count": 27,
   "id": "150e1494",
   "metadata": {},
   "outputs": [
    {
     "data": {
      "text/plain": [
       "100"
      ]
     },
     "execution_count": 27,
     "metadata": {},
     "output_type": "execute_result"
    }
   ],
   "source": [
    "a.max()"
   ]
  },
  {
   "cell_type": "code",
   "execution_count": 29,
   "id": "afe12429",
   "metadata": {},
   "outputs": [
    {
     "data": {
      "text/plain": [
       "(50.5, 28.86607004772212)"
      ]
     },
     "execution_count": 29,
     "metadata": {},
     "output_type": "execute_result"
    }
   ],
   "source": [
    "a.mean(), a.std()"
   ]
  },
  {
   "cell_type": "code",
   "execution_count": 31,
   "id": "aeec5ea4",
   "metadata": {},
   "outputs": [
    {
     "data": {
      "text/plain": [
       "5050"
      ]
     },
     "execution_count": 31,
     "metadata": {},
     "output_type": "execute_result"
    }
   ],
   "source": [
    "a.sum()"
   ]
  },
  {
   "cell_type": "code",
   "execution_count": 213,
   "id": "3146004d",
   "metadata": {},
   "outputs": [
    {
     "data": {
      "text/plain": [
       "100"
      ]
     },
     "execution_count": 213,
     "metadata": {},
     "output_type": "execute_result"
    }
   ],
   "source": [
    "np.max(a)"
   ]
  },
  {
   "cell_type": "code",
   "execution_count": 214,
   "id": "b2e69ed5",
   "metadata": {},
   "outputs": [
    {
     "data": {
      "text/plain": [
       "28.86607004772212"
      ]
     },
     "execution_count": 214,
     "metadata": {},
     "output_type": "execute_result"
    }
   ],
   "source": [
    "np.std(a)"
   ]
  },
  {
   "cell_type": "code",
   "execution_count": 215,
   "id": "d022f074",
   "metadata": {},
   "outputs": [
    {
     "data": {
      "text/plain": [
       "50.5"
      ]
     },
     "execution_count": 215,
     "metadata": {},
     "output_type": "execute_result"
    }
   ],
   "source": [
    "np.mean(a)"
   ]
  },
  {
   "cell_type": "code",
   "execution_count": 216,
   "id": "921e3e98",
   "metadata": {},
   "outputs": [
    {
     "data": {
      "text/plain": [
       "5050"
      ]
     },
     "execution_count": 216,
     "metadata": {},
     "output_type": "execute_result"
    }
   ],
   "source": [
    "np.sum(a)"
   ]
  },
  {
   "cell_type": "code",
   "execution_count": 32,
   "id": "13833340",
   "metadata": {},
   "outputs": [
    {
     "data": {
      "text/plain": [
       "100"
      ]
     },
     "execution_count": 32,
     "metadata": {},
     "output_type": "execute_result"
    }
   ],
   "source": [
    "max(a)"
   ]
  },
  {
   "cell_type": "code",
   "execution_count": 33,
   "id": "fb89f3b2",
   "metadata": {},
   "outputs": [
    {
     "data": {
      "text/plain": [
       "1"
      ]
     },
     "execution_count": 33,
     "metadata": {},
     "output_type": "execute_result"
    }
   ],
   "source": [
    "min(a)"
   ]
  },
  {
   "cell_type": "code",
   "execution_count": 35,
   "id": "4598fc0b",
   "metadata": {},
   "outputs": [
    {
     "data": {
      "text/plain": [
       "5050"
      ]
     },
     "execution_count": 35,
     "metadata": {},
     "output_type": "execute_result"
    }
   ],
   "source": [
    "sum(a)"
   ]
  },
  {
   "cell_type": "markdown",
   "id": "3bc36757",
   "metadata": {},
   "source": [
    "#### using functions: using numpy to call functions"
   ]
  },
  {
   "cell_type": "code",
   "execution_count": null,
   "id": "39e02a01",
   "metadata": {},
   "outputs": [],
   "source": []
  },
  {
   "cell_type": "markdown",
   "id": "4a2246aa",
   "metadata": {},
   "source": [
    "### Array of Booleans! "
   ]
  },
  {
   "cell_type": "markdown",
   "id": "9fdc082a",
   "metadata": {},
   "source": [
    "### Boolean Masks"
   ]
  },
  {
   "cell_type": "markdown",
   "id": "e786d45e",
   "metadata": {},
   "source": [
    "1. create an array\n",
    "2. make a list of booleans (mask)\n",
    "3. combine\n",
    "\n",
    "    format: array [ list of booleans ] "
   ]
  },
  {
   "cell_type": "code",
   "execution_count": 36,
   "id": "94edffd1",
   "metadata": {},
   "outputs": [
    {
     "data": {
      "text/plain": [
       "array([1, 2, 3, 4])"
      ]
     },
     "execution_count": 36,
     "metadata": {},
     "output_type": "execute_result"
    }
   ],
   "source": [
    "#pull back our small array\n",
    "my_array"
   ]
  },
  {
   "cell_type": "code",
   "execution_count": 37,
   "id": "bd64c3b8",
   "metadata": {},
   "outputs": [
    {
     "data": {
      "text/plain": [
       "[True, False, False, True]"
      ]
     },
     "execution_count": 37,
     "metadata": {},
     "output_type": "execute_result"
    }
   ],
   "source": [
    "#make list of booleans aka our mask\n",
    "mask = [True,False,False,True]\n",
    "mask "
   ]
  },
  {
   "cell_type": "markdown",
   "id": "06f78369",
   "metadata": {},
   "source": [
    "#combine them \n",
    "``` python\n",
    "my_array[mask]\n",
    "```"
   ]
  },
  {
   "cell_type": "markdown",
   "id": "9a76e9fc",
   "metadata": {},
   "source": [
    "> only returns values that are true. This is known as boolean masking "
   ]
  },
  {
   "cell_type": "markdown",
   "id": "ad2e4168",
   "metadata": {},
   "source": [
    "#### how else can we get our array of boolean values?"
   ]
  },
  {
   "cell_type": "code",
   "execution_count": 39,
   "id": "29ddfe04",
   "metadata": {},
   "outputs": [
    {
     "data": {
      "text/plain": [
       "array([1, 2, 3, 4])"
      ]
     },
     "execution_count": 39,
     "metadata": {},
     "output_type": "execute_result"
    }
   ],
   "source": [
    "my_array"
   ]
  },
  {
   "cell_type": "code",
   "execution_count": 40,
   "id": "58cba511",
   "metadata": {},
   "outputs": [
    {
     "data": {
      "text/plain": [
       "array([False, False, False,  True])"
      ]
     },
     "execution_count": 40,
     "metadata": {},
     "output_type": "execute_result"
    }
   ],
   "source": [
    "#write a conditional with the array\n",
    "my_array == 4"
   ]
  },
  {
   "cell_type": "markdown",
   "id": "f1851d3b",
   "metadata": {},
   "source": [
    "#### make and apply our boolean mask"
   ]
  },
  {
   "cell_type": "code",
   "execution_count": 231,
   "id": "8b5b5d94",
   "metadata": {},
   "outputs": [
    {
     "data": {
      "text/plain": [
       "array([False, False, False,  True, False])"
      ]
     },
     "execution_count": 231,
     "metadata": {},
     "output_type": "execute_result"
    }
   ],
   "source": []
  },
  {
   "cell_type": "code",
   "execution_count": 485,
   "id": "d80cf9be",
   "metadata": {},
   "outputs": [],
   "source": [
    "#format: array_name [ list_of_booleans ]\n"
   ]
  },
  {
   "cell_type": "code",
   "execution_count": null,
   "id": "2c26d11f",
   "metadata": {},
   "outputs": [],
   "source": []
  },
  {
   "cell_type": "code",
   "execution_count": null,
   "id": "1c5932ff",
   "metadata": {},
   "outputs": [],
   "source": []
  },
  {
   "cell_type": "markdown",
   "id": "4805d484",
   "metadata": {},
   "source": [
    "#### cool! can we just do it with a list instead of an array?"
   ]
  },
  {
   "cell_type": "code",
   "execution_count": 5,
   "id": "b65d82b5",
   "metadata": {},
   "outputs": [
    {
     "data": {
      "text/plain": [
       "[1, 2, 3, 4]"
      ]
     },
     "execution_count": 5,
     "metadata": {},
     "output_type": "execute_result"
    }
   ],
   "source": [
    "#pull back our initial list\n",
    "my_list"
   ]
  },
  {
   "cell_type": "code",
   "execution_count": 43,
   "id": "e6a379e7",
   "metadata": {},
   "outputs": [
    {
     "data": {
      "text/plain": [
       "False"
      ]
     },
     "execution_count": 43,
     "metadata": {},
     "output_type": "execute_result"
    }
   ],
   "source": [
    "#create a array of booleans\n",
    "my_list == 4"
   ]
  },
  {
   "cell_type": "code",
   "execution_count": 44,
   "id": "bc6ac5fc",
   "metadata": {},
   "outputs": [
    {
     "ename": "TypeError",
     "evalue": "list indices must be integers or slices, not list",
     "output_type": "error",
     "traceback": [
      "\u001b[0;31m---------------------------------------------------------------------------\u001b[0m",
      "\u001b[0;31mTypeError\u001b[0m                                 Traceback (most recent call last)",
      "\u001b[0;32m/var/folders/30/cccszyfj19z85nmzb4bvgg5r0000gq/T/ipykernel_94181/106876027.py\u001b[0m in \u001b[0;36m<module>\u001b[0;34m\u001b[0m\n\u001b[1;32m      1\u001b[0m \u001b[0;31m#apply an array of booleans to a list\u001b[0m\u001b[0;34m\u001b[0m\u001b[0;34m\u001b[0m\u001b[0m\n\u001b[0;32m----> 2\u001b[0;31m \u001b[0mmy_list\u001b[0m\u001b[0;34m[\u001b[0m\u001b[0mmask\u001b[0m\u001b[0;34m]\u001b[0m\u001b[0;34m\u001b[0m\u001b[0;34m\u001b[0m\u001b[0m\n\u001b[0m",
      "\u001b[0;31mTypeError\u001b[0m: list indices must be integers or slices, not list"
     ]
    }
   ],
   "source": [
    "#apply an array of booleans to a list\n",
    "my_list[mask]"
   ]
  },
  {
   "cell_type": "markdown",
   "id": "cd1f7110",
   "metadata": {},
   "source": [
    "#### let's bring it back to arrays and make them bigger"
   ]
  },
  {
   "cell_type": "code",
   "execution_count": 45,
   "id": "de0909a1",
   "metadata": {},
   "outputs": [
    {
     "data": {
      "text/plain": [
       "array([  1,   2,   3,   4,   5,   6,   7,   8,   9,  10,  11,  12,  13,\n",
       "        14,  15,  16,  17,  18,  19,  20,  21,  22,  23,  24,  25,  26,\n",
       "        27,  28,  29,  30,  31,  32,  33,  34,  35,  36,  37,  38,  39,\n",
       "        40,  41,  42,  43,  44,  45,  46,  47,  48,  49,  50,  51,  52,\n",
       "        53,  54,  55,  56,  57,  58,  59,  60,  61,  62,  63,  64,  65,\n",
       "        66,  67,  68,  69,  70,  71,  72,  73,  74,  75,  76,  77,  78,\n",
       "        79,  80,  81,  82,  83,  84,  85,  86,  87,  88,  89,  90,  91,\n",
       "        92,  93,  94,  95,  96,  97,  98,  99, 100])"
      ]
     },
     "execution_count": 45,
     "metadata": {},
     "output_type": "execute_result"
    }
   ],
   "source": [
    "#array\n",
    "a"
   ]
  },
  {
   "cell_type": "code",
   "execution_count": 49,
   "id": "9cb7e08d",
   "metadata": {},
   "outputs": [
    {
     "data": {
      "text/plain": [
       "array([False, False, False, False, False, False, False, False, False,\n",
       "       False, False, False, False, False, False, False, False, False,\n",
       "       False, False, False, False, False, False, False, False, False,\n",
       "       False, False, False, False, False, False, False, False, False,\n",
       "       False, False, False, False, False, False, False, False, False,\n",
       "       False, False, False, False, False, False, False, False, False,\n",
       "       False, False, False, False, False, False, False, False, False,\n",
       "       False, False, False, False, False, False, False, False, False,\n",
       "       False, False, False, False, False, False, False, False, False,\n",
       "       False, False, False, False, False, False, False, False,  True,\n",
       "        True,  True,  True,  True,  True,  True,  True,  True,  True,\n",
       "        True])"
      ]
     },
     "execution_count": 49,
     "metadata": {},
     "output_type": "execute_result"
    }
   ],
   "source": [
    "#mask\n",
    "mask = a >= 90\n",
    "mask"
   ]
  },
  {
   "cell_type": "code",
   "execution_count": 50,
   "id": "1ef146a4",
   "metadata": {},
   "outputs": [
    {
     "data": {
      "text/plain": [
       "array([ 90,  91,  92,  93,  94,  95,  96,  97,  98,  99, 100])"
      ]
     },
     "execution_count": 50,
     "metadata": {},
     "output_type": "execute_result"
    }
   ],
   "source": [
    "#boolean mask\n",
    "a[mask]"
   ]
  },
  {
   "cell_type": "markdown",
   "id": "e3050b98",
   "metadata": {},
   "source": [
    "#### shortcut?"
   ]
  },
  {
   "cell_type": "code",
   "execution_count": 51,
   "id": "015bdcc5",
   "metadata": {},
   "outputs": [
    {
     "data": {
      "text/plain": [
       "array([ 90,  91,  92,  93,  94,  95,  96,  97,  98,  99, 100])"
      ]
     },
     "execution_count": 51,
     "metadata": {},
     "output_type": "execute_result"
    }
   ],
   "source": [
    "a [a >= 90]"
   ]
  },
  {
   "cell_type": "code",
   "execution_count": null,
   "id": "1599616a",
   "metadata": {},
   "outputs": [],
   "source": []
  },
  {
   "cell_type": "markdown",
   "id": "d64aa50b",
   "metadata": {},
   "source": [
    "#### what if we wanted to check two conditions?"
   ]
  },
  {
   "cell_type": "code",
   "execution_count": 53,
   "id": "462d2571",
   "metadata": {},
   "outputs": [
    {
     "data": {
      "text/plain": [
       "array([False, False, False, False, False,  True,  True,  True,  True,\n",
       "        True,  True,  True,  True,  True, False, False, False, False,\n",
       "       False, False, False, False, False, False, False, False, False,\n",
       "       False, False, False, False, False, False, False, False, False,\n",
       "       False, False, False, False, False, False, False, False, False,\n",
       "       False, False, False, False, False, False, False, False, False,\n",
       "       False, False, False, False, False, False, False, False, False,\n",
       "       False, False, False, False, False, False, False, False, False,\n",
       "       False, False, False, False, False, False, False, False, False,\n",
       "       False, False, False, False, False, False, False, False, False,\n",
       "       False, False, False, False, False, False, False, False, False,\n",
       "       False])"
      ]
     },
     "execution_count": 53,
     "metadata": {},
     "output_type": "execute_result"
    }
   ],
   "source": [
    "# note the parenthesis\n",
    "# also note that we're using & instead of and\n",
    "mask = (a > 5) & (a < 15) "
   ]
  },
  {
   "cell_type": "code",
   "execution_count": null,
   "id": "112c086e",
   "metadata": {},
   "outputs": [],
   "source": []
  },
  {
   "cell_type": "code",
   "execution_count": null,
   "id": "675dad0d",
   "metadata": {},
   "outputs": [],
   "source": []
  },
  {
   "cell_type": "markdown",
   "id": "38b59f1e",
   "metadata": {},
   "source": [
    "#### what if we wanted the opposite of our mask?"
   ]
  },
  {
   "cell_type": "code",
   "execution_count": 54,
   "id": "ce8d8633",
   "metadata": {},
   "outputs": [
    {
     "data": {
      "text/plain": [
       "array([ True,  True,  True,  True,  True,  True,  True,  True,  True,\n",
       "        True,  True,  True,  True,  True,  True,  True,  True,  True,\n",
       "        True,  True,  True,  True,  True,  True,  True,  True,  True,\n",
       "        True,  True,  True,  True,  True,  True,  True,  True,  True,\n",
       "        True,  True,  True,  True,  True,  True,  True,  True,  True,\n",
       "        True,  True,  True,  True,  True,  True,  True,  True,  True,\n",
       "        True,  True,  True,  True,  True,  True,  True,  True,  True,\n",
       "        True,  True,  True,  True,  True,  True,  True,  True,  True,\n",
       "        True,  True,  True,  True,  True,  True,  True,  True,  True,\n",
       "        True,  True,  True,  True,  True,  True,  True,  True, False,\n",
       "       False, False, False, False, False, False, False, False, False,\n",
       "       False])"
      ]
     },
     "execution_count": 54,
     "metadata": {},
     "output_type": "execute_result"
    }
   ],
   "source": [
    "~mask"
   ]
  },
  {
   "cell_type": "code",
   "execution_count": 493,
   "id": "127e6506",
   "metadata": {},
   "outputs": [],
   "source": [
    "# the ~ notates the opposite of\n"
   ]
  },
  {
   "cell_type": "code",
   "execution_count": null,
   "id": "4346c3ac",
   "metadata": {},
   "outputs": [],
   "source": []
  },
  {
   "cell_type": "markdown",
   "id": "medium-generation",
   "metadata": {},
   "source": [
    "## Vectorization Operations\n",
    "- makes looping over math so easy and fast!"
   ]
  },
  {
   "cell_type": "markdown",
   "id": "a8e224de",
   "metadata": {},
   "source": [
    "### Add one to every element"
   ]
  },
  {
   "cell_type": "markdown",
   "id": "b9efeafd",
   "metadata": {},
   "source": [
    "#### hard way: doing it in a list"
   ]
  },
  {
   "cell_type": "code",
   "execution_count": 3,
   "id": "258f1d5d",
   "metadata": {},
   "outputs": [
    {
     "ename": "NameError",
     "evalue": "name 'my_list' is not defined",
     "output_type": "error",
     "traceback": [
      "\u001b[0;31m---------------------------------------------------------------------------\u001b[0m",
      "\u001b[0;31mNameError\u001b[0m                                 Traceback (most recent call last)",
      "\u001b[0;32m/var/folders/30/cccszyfj19z85nmzb4bvgg5r0000gq/T/ipykernel_94504/376848641.py\u001b[0m in \u001b[0;36m<module>\u001b[0;34m\u001b[0m\n\u001b[0;32m----> 1\u001b[0;31m \u001b[0mmy_list\u001b[0m\u001b[0;34m\u001b[0m\u001b[0;34m\u001b[0m\u001b[0m\n\u001b[0m",
      "\u001b[0;31mNameError\u001b[0m: name 'my_list' is not defined"
     ]
    }
   ],
   "source": [
    "my_list"
   ]
  },
  {
   "cell_type": "code",
   "execution_count": 7,
   "id": "7cef8ab3",
   "metadata": {},
   "outputs": [
    {
     "name": "stdout",
     "output_type": "stream",
     "text": [
      "[2, 3, 4, 5]\n"
     ]
    }
   ],
   "source": [
    "#using a for loop\n",
    "new_list = []\n",
    "for x in my_list:\n",
    "    new_list.append(x+1) \n",
    "print(new_list)"
   ]
  },
  {
   "cell_type": "code",
   "execution_count": null,
   "id": "1c68aba0",
   "metadata": {},
   "outputs": [],
   "source": [
    "#using a list comprehension\n"
   ]
  },
  {
   "cell_type": "markdown",
   "id": "8779aafd",
   "metadata": {},
   "source": [
    "#### easy way: doing it with an array"
   ]
  },
  {
   "cell_type": "code",
   "execution_count": null,
   "id": "09dd6656",
   "metadata": {},
   "outputs": [],
   "source": []
  },
  {
   "cell_type": "code",
   "execution_count": null,
   "id": "9b4f67fe",
   "metadata": {},
   "outputs": [],
   "source": [
    "#using vectorization operations\n"
   ]
  },
  {
   "cell_type": "markdown",
   "id": "bb911800",
   "metadata": {},
   "source": [
    "### more operations"
   ]
  },
  {
   "cell_type": "code",
   "execution_count": null,
   "id": "50157e4d",
   "metadata": {},
   "outputs": [],
   "source": []
  },
  {
   "cell_type": "code",
   "execution_count": null,
   "id": "274f42c3",
   "metadata": {},
   "outputs": [],
   "source": []
  },
  {
   "cell_type": "code",
   "execution_count": null,
   "id": "07cab80d",
   "metadata": {},
   "outputs": [],
   "source": []
  },
  {
   "cell_type": "code",
   "execution_count": null,
   "id": "12d58f74",
   "metadata": {},
   "outputs": [],
   "source": []
  },
  {
   "cell_type": "markdown",
   "id": "ad53f0e1",
   "metadata": {},
   "source": [
    "### show us the speed"
   ]
  },
  {
   "cell_type": "code",
   "execution_count": 12,
   "id": "63d7b8d4",
   "metadata": {},
   "outputs": [
    {
     "data": {
      "text/plain": [
       "array([      0,       1,       2, ...,  999998,  999999, 1000000])"
      ]
     },
     "execution_count": 12,
     "metadata": {},
     "output_type": "execute_result"
    }
   ],
   "source": [
    "#make a really big array\n",
    "big_array = np.array(range(1_000_001))\n",
    "big_array"
   ]
  },
  {
   "cell_type": "code",
   "execution_count": 16,
   "id": "414f9834",
   "metadata": {},
   "outputs": [
    {
     "name": "stdout",
     "output_type": "stream",
     "text": [
      "300 µs ± 3.37 µs per loop (mean ± std. dev. of 7 runs, 1000 loops each)\n"
     ]
    }
   ],
   "source": [
    "%%timeit\n",
    "\n",
    "big_array ** 2"
   ]
  },
  {
   "cell_type": "code",
   "execution_count": 503,
   "id": "05bc1ff7",
   "metadata": {},
   "outputs": [],
   "source": [
    "#make a really big list\n"
   ]
  },
  {
   "cell_type": "code",
   "execution_count": 504,
   "id": "1e526fdb",
   "metadata": {},
   "outputs": [],
   "source": [
    "# %%timeit\n"
   ]
  },
  {
   "cell_type": "markdown",
   "id": "1ab1109d",
   "metadata": {},
   "source": [
    "## Numpy ways to create arrays"
   ]
  },
  {
   "cell_type": "markdown",
   "id": "fbdf8824",
   "metadata": {},
   "source": [
    "\n",
    "#### full of zeros"
   ]
  },
  {
   "cell_type": "code",
   "execution_count": 18,
   "id": "6df78629",
   "metadata": {},
   "outputs": [
    {
     "ename": "TypeError",
     "evalue": "Cannot interpret '2' as a data type",
     "output_type": "error",
     "traceback": [
      "\u001b[0;31m---------------------------------------------------------------------------\u001b[0m",
      "\u001b[0;31mTypeError\u001b[0m                                 Traceback (most recent call last)",
      "\u001b[0;32m/var/folders/30/cccszyfj19z85nmzb4bvgg5r0000gq/T/ipykernel_94504/328222390.py\u001b[0m in \u001b[0;36m<module>\u001b[0;34m\u001b[0m\n\u001b[0;32m----> 1\u001b[0;31m \u001b[0mnp\u001b[0m\u001b[0;34m.\u001b[0m\u001b[0mzeros\u001b[0m\u001b[0;34m(\u001b[0m\u001b[0;36m10\u001b[0m\u001b[0;34m,\u001b[0m\u001b[0;36m2\u001b[0m\u001b[0;34m)\u001b[0m\u001b[0;34m\u001b[0m\u001b[0;34m\u001b[0m\u001b[0m\n\u001b[0m",
      "\u001b[0;31mTypeError\u001b[0m: Cannot interpret '2' as a data type"
     ]
    }
   ],
   "source": [
    "np.zeros(10,)\n"
   ]
  },
  {
   "cell_type": "markdown",
   "id": "d2e1999c",
   "metadata": {},
   "source": [
    "#### full of ones"
   ]
  },
  {
   "cell_type": "code",
   "execution_count": 19,
   "id": "f5896975",
   "metadata": {},
   "outputs": [
    {
     "data": {
      "text/plain": [
       "array([1., 1., 1., 1., 1.])"
      ]
     },
     "execution_count": 19,
     "metadata": {},
     "output_type": "execute_result"
    }
   ],
   "source": [
    "np.ones(5)"
   ]
  },
  {
   "cell_type": "markdown",
   "id": "485d5479",
   "metadata": {},
   "source": [
    "#### full of whatever you want "
   ]
  },
  {
   "cell_type": "code",
   "execution_count": 27,
   "id": "380d5efa",
   "metadata": {},
   "outputs": [
    {
     "ename": "TypeError",
     "evalue": "Cannot interpret '3' as a data type",
     "output_type": "error",
     "traceback": [
      "\u001b[0;31m---------------------------------------------------------------------------\u001b[0m",
      "\u001b[0;31mTypeError\u001b[0m                                 Traceback (most recent call last)",
      "\u001b[0;32m/var/folders/30/cccszyfj19z85nmzb4bvgg5r0000gq/T/ipykernel_94504/125768424.py\u001b[0m in \u001b[0;36m<module>\u001b[0;34m\u001b[0m\n\u001b[0;32m----> 1\u001b[0;31m \u001b[0mnp\u001b[0m\u001b[0;34m.\u001b[0m\u001b[0mfull\u001b[0m\u001b[0;34m(\u001b[0m\u001b[0;36m100\u001b[0m\u001b[0;34m,\u001b[0m \u001b[0;36m50\u001b[0m\u001b[0;34m,\u001b[0m\u001b[0;36m3\u001b[0m\u001b[0;34m)\u001b[0m\u001b[0;34m\u001b[0m\u001b[0;34m\u001b[0m\u001b[0m\n\u001b[0m",
      "\u001b[0;32m~/opt/anaconda3/lib/python3.9/site-packages/numpy/core/numeric.py\u001b[0m in \u001b[0;36mfull\u001b[0;34m(shape, fill_value, dtype, order, like)\u001b[0m\n\u001b[1;32m    341\u001b[0m         \u001b[0mfill_value\u001b[0m \u001b[0;34m=\u001b[0m \u001b[0masarray\u001b[0m\u001b[0;34m(\u001b[0m\u001b[0mfill_value\u001b[0m\u001b[0;34m)\u001b[0m\u001b[0;34m\u001b[0m\u001b[0;34m\u001b[0m\u001b[0m\n\u001b[1;32m    342\u001b[0m         \u001b[0mdtype\u001b[0m \u001b[0;34m=\u001b[0m \u001b[0mfill_value\u001b[0m\u001b[0;34m.\u001b[0m\u001b[0mdtype\u001b[0m\u001b[0;34m\u001b[0m\u001b[0;34m\u001b[0m\u001b[0m\n\u001b[0;32m--> 343\u001b[0;31m     \u001b[0ma\u001b[0m \u001b[0;34m=\u001b[0m \u001b[0mempty\u001b[0m\u001b[0;34m(\u001b[0m\u001b[0mshape\u001b[0m\u001b[0;34m,\u001b[0m \u001b[0mdtype\u001b[0m\u001b[0;34m,\u001b[0m \u001b[0morder\u001b[0m\u001b[0;34m)\u001b[0m\u001b[0;34m\u001b[0m\u001b[0;34m\u001b[0m\u001b[0m\n\u001b[0m\u001b[1;32m    344\u001b[0m     \u001b[0mmultiarray\u001b[0m\u001b[0;34m.\u001b[0m\u001b[0mcopyto\u001b[0m\u001b[0;34m(\u001b[0m\u001b[0ma\u001b[0m\u001b[0;34m,\u001b[0m \u001b[0mfill_value\u001b[0m\u001b[0;34m,\u001b[0m \u001b[0mcasting\u001b[0m\u001b[0;34m=\u001b[0m\u001b[0;34m'unsafe'\u001b[0m\u001b[0;34m)\u001b[0m\u001b[0;34m\u001b[0m\u001b[0;34m\u001b[0m\u001b[0m\n\u001b[1;32m    345\u001b[0m     \u001b[0;32mreturn\u001b[0m \u001b[0ma\u001b[0m\u001b[0;34m\u001b[0m\u001b[0;34m\u001b[0m\u001b[0m\n",
      "\u001b[0;31mTypeError\u001b[0m: Cannot interpret '3' as a data type"
     ]
    }
   ],
   "source": [
    "np.full(100, 50)\n"
   ]
  },
  {
   "cell_type": "markdown",
   "id": "19d0e8dc",
   "metadata": {},
   "source": [
    "#### a quicker way to make a range"
   ]
  },
  {
   "cell_type": "code",
   "execution_count": 29,
   "id": "5f6894ed",
   "metadata": {},
   "outputs": [
    {
     "data": {
      "text/plain": [
       "array([0, 1, 2, 3, 4, 5, 6, 7, 8, 9])"
      ]
     },
     "execution_count": 29,
     "metadata": {},
     "output_type": "execute_result"
    }
   ],
   "source": [
    "np.arange(10)"
   ]
  },
  {
   "cell_type": "markdown",
   "id": "ae2ed3b1",
   "metadata": {},
   "source": [
    "#### an array of random integers"
   ]
  },
  {
   "cell_type": "code",
   "execution_count": 30,
   "id": "f49323ae",
   "metadata": {},
   "outputs": [
    {
     "data": {
      "text/plain": [
       "array([15,  5, 14,  7, 15, 13,  6, 17,  3, 13])"
      ]
     },
     "execution_count": 30,
     "metadata": {},
     "output_type": "execute_result"
    }
   ],
   "source": [
    "np.random.randint(2,20,10)\n"
   ]
  },
  {
   "cell_type": "markdown",
   "id": "c7c783ac",
   "metadata": {},
   "source": [
    "#### an array of random numbers from the standard distribution"
   ]
  },
  {
   "cell_type": "code",
   "execution_count": 31,
   "id": "75c49dda",
   "metadata": {},
   "outputs": [
    {
     "data": {
      "text/plain": [
       "-1.1022487022880536"
      ]
     },
     "execution_count": 31,
     "metadata": {},
     "output_type": "execute_result"
    }
   ],
   "source": [
    "np.random.randn()\n"
   ]
  },
  {
   "cell_type": "code",
   "execution_count": null,
   "id": "1108b32e",
   "metadata": {},
   "outputs": [],
   "source": []
  }
 ],
 "metadata": {
  "kernelspec": {
   "display_name": "Python 3 (ipykernel)",
   "language": "python",
   "name": "python3"
  },
  "language_info": {
   "codemirror_mode": {
    "name": "ipython",
    "version": 3
   },
   "file_extension": ".py",
   "mimetype": "text/x-python",
   "name": "python",
   "nbconvert_exporter": "python",
   "pygments_lexer": "ipython3",
   "version": "3.9.13"
  }
 },
 "nbformat": 4,
 "nbformat_minor": 5
}
