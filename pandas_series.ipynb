{
 "cells": [
  {
   "cell_type": "markdown",
   "id": "f8f96c2e",
   "metadata": {},
   "source": [
    "# Exercises Part I\n",
    "- Make a file named pandas_series.py or pandas_series.ipynb for the following exercises.\n",
    "- Use pandas to create a Series named fruits from the following list:\n",
    "\n"
   ]
  },
  {
   "cell_type": "code",
   "execution_count": 2,
   "id": "722bd56a",
   "metadata": {},
   "outputs": [],
   "source": [
    "import pandas as pd\n",
    "import numpy as np \n",
    "\n",
    "\n",
    "\n",
    "fruits = [\"kiwi\", \"mango\", \"strawberry\", \"pineapple\", \"gala apple\", \"honeycrisp apple\", \"tomato\", \"watermelon\", \"honeydew\", \"kiwi\", \"kiwi\", \"kiwi\", \"mango\", \"blueberry\", \"blackberry\", \"gooseberry\", \"papaya\"]\n",
    "\n",
    "fruits = pd.Series(fruits)\n"
   ]
  },
  {
   "cell_type": "markdown",
   "id": "c30655a3",
   "metadata": {},
   "source": [
    "   ## Use Series attributes and methods to explore your fruits Series.\n",
    "\n",
    "> Determine the number of elements in fruits."
   ]
  },
  {
   "cell_type": "code",
   "execution_count": 3,
   "id": "42cffba5",
   "metadata": {},
   "outputs": [
    {
     "data": {
      "text/plain": [
       "kiwi                4\n",
       "mango               2\n",
       "strawberry          1\n",
       "pineapple           1\n",
       "gala apple          1\n",
       "honeycrisp apple    1\n",
       "tomato              1\n",
       "watermelon          1\n",
       "honeydew            1\n",
       "blueberry           1\n",
       "blackberry          1\n",
       "gooseberry          1\n",
       "papaya              1\n",
       "dtype: int64"
      ]
     },
     "execution_count": 3,
     "metadata": {},
     "output_type": "execute_result"
    }
   ],
   "source": [
    "fruits.value_counts()"
   ]
  },
  {
   "cell_type": "markdown",
   "id": "d0e4b580",
   "metadata": {},
   "source": [
    "> Output only the index from fruits."
   ]
  },
  {
   "cell_type": "code",
   "execution_count": null,
   "id": "7ccf439a",
   "metadata": {},
   "outputs": [],
   "source": [
    "fruits.index"
   ]
  },
  {
   "cell_type": "markdown",
   "id": "140dc0f8",
   "metadata": {},
   "source": [
    "> Output only the values from fruits.\n",
    "\n"
   ]
  },
  {
   "cell_type": "code",
   "execution_count": null,
   "id": "c0143caf",
   "metadata": {},
   "outputs": [],
   "source": [
    "fruits.values"
   ]
  },
  {
   "cell_type": "markdown",
   "id": "8af6cf14",
   "metadata": {},
   "source": [
    "> Confirm the data type of the values in fruits.\n",
    "\n"
   ]
  },
  {
   "cell_type": "code",
   "execution_count": null,
   "id": "adfaad06",
   "metadata": {},
   "outputs": [],
   "source": [
    "fruits.dtype"
   ]
  },
  {
   "cell_type": "markdown",
   "id": "6e8d510e",
   "metadata": {},
   "source": [
    "> Run the .describe() on fruits to see what information it returns when called on a Series with string values.\n",
    "\n"
   ]
  },
  {
   "cell_type": "code",
   "execution_count": null,
   "id": "8d1ab310",
   "metadata": {},
   "outputs": [],
   "source": [
    "fruits.describe()"
   ]
  },
  {
   "cell_type": "markdown",
   "id": "f02f1853",
   "metadata": {},
   "source": [
    "> Determine how many times each unique string value occurs in fruits.\n",
    "\n"
   ]
  },
  {
   "cell_type": "code",
   "execution_count": null,
   "id": "7efb6ab9",
   "metadata": {},
   "outputs": [],
   "source": [
    "print(type(unique_fruit))\n",
    "unique_fruit = pd.Series(fruits.unique())\n",
    "unique_fruit.value_counts()"
   ]
  },
  {
   "cell_type": "markdown",
   "id": "7f0b0f94",
   "metadata": {},
   "source": [
    "> Determine the string value that occurs most frequently in fruits.\n"
   ]
  },
  {
   "cell_type": "markdown",
   "id": "85e2d32d",
   "metadata": {},
   "source": [
    "> Determine the string value that occurs least frequently in fruits.\n"
   ]
  },
  {
   "cell_type": "code",
   "execution_count": 69,
   "id": "064b9771",
   "metadata": {},
   "outputs": [
    {
     "data": {
      "text/plain": [
       "Index(['kiwi', 'mango', 'strawberry', 'pineapple', 'gala apple',\n",
       "       'honeycrisp apple', 'tomato', 'watermelon', 'honeydew', 'blueberry',\n",
       "       'blackberry', 'gooseberry', 'papaya'],\n",
       "      dtype='object')"
      ]
     },
     "execution_count": 69,
     "metadata": {},
     "output_type": "execute_result"
    }
   ],
   "source": [
    "count.index"
   ]
  },
  {
   "cell_type": "code",
   "execution_count": 81,
   "id": "aaa3ae78",
   "metadata": {},
   "outputs": [
    {
     "data": {
      "text/plain": [
       "strawberry          1\n",
       "pineapple           1\n",
       "gala apple          1\n",
       "honeycrisp apple    1\n",
       "tomato              1\n",
       "watermelon          1\n",
       "honeydew            1\n",
       "blueberry           1\n",
       "blackberry          1\n",
       "gooseberry          1\n",
       "papaya              1\n",
       "dtype: int64"
      ]
     },
     "execution_count": 81,
     "metadata": {},
     "output_type": "execute_result"
    }
   ],
   "source": [
    "# then we get the min of the series count \n",
    "fruits.value_counts()[fruits.value_counts() == 1]\n",
    "\n",
    "    "
   ]
  },
  {
   "cell_type": "markdown",
   "id": "075342bd",
   "metadata": {},
   "source": [
    "> Capitalize all the string values in fruits."
   ]
  },
  {
   "cell_type": "code",
   "execution_count": 82,
   "id": "ade7e519",
   "metadata": {},
   "outputs": [
    {
     "data": {
      "text/plain": [
       "0                 Kiwi\n",
       "1                Mango\n",
       "2           Strawberry\n",
       "3            Pineapple\n",
       "4           Gala apple\n",
       "5     Honeycrisp apple\n",
       "6               Tomato\n",
       "7           Watermelon\n",
       "8             Honeydew\n",
       "9                 Kiwi\n",
       "10                Kiwi\n",
       "11                Kiwi\n",
       "12               Mango\n",
       "13           Blueberry\n",
       "14          Blackberry\n",
       "15          Gooseberry\n",
       "16              Papaya\n",
       "dtype: object"
      ]
     },
     "execution_count": 82,
     "metadata": {},
     "output_type": "execute_result"
    }
   ],
   "source": [
    "fruit.str.capitalize()"
   ]
  },
  {
   "cell_type": "markdown",
   "id": "7db23e23",
   "metadata": {},
   "source": [
    "> Count the letter \"a\" in all the string values (use string vectorization). \n"
   ]
  },
  {
   "cell_type": "code",
   "execution_count": 122,
   "id": "99f823d8",
   "metadata": {},
   "outputs": [
    {
     "name": "stdout",
     "output_type": "stream",
     "text": [
      "0     0\n",
      "1     1\n",
      "2     1\n",
      "3     1\n",
      "4     3\n",
      "5     1\n",
      "6     1\n",
      "7     1\n",
      "8     0\n",
      "9     0\n",
      "10    0\n",
      "11    0\n",
      "12    1\n",
      "13    0\n",
      "14    1\n",
      "15    0\n",
      "16    3\n",
      "dtype: int64\n"
     ]
    }
   ],
   "source": [
    "total_as = sum(fruits.str.count('a'))\n",
    "total_as\n",
    "print(fruits.str.count('a'))"
   ]
  },
  {
   "cell_type": "markdown",
   "id": "847c03c8",
   "metadata": {},
   "source": [
    "> Output the number of vowels in each and every string value.\n"
   ]
  },
  {
   "cell_type": "code",
   "execution_count": 17,
   "id": "99862fde",
   "metadata": {},
   "outputs": [],
   "source": [
    "#if i want to count every vowl \n",
    "# fam way to do this \n",
    "# make a function, apply it our series using .apply \n",
    "counter = 0\n",
    "def count_vowels(some_string):\n",
    "    counter = 0\n",
    "    for letter in some_string:\n",
    "        if letter in 'aeiou':\n",
    "            counter += 1 \n",
    "            return counter"
   ]
  },
  {
   "cell_type": "code",
   "execution_count": 18,
   "id": "c89be0b7",
   "metadata": {},
   "outputs": [
    {
     "data": {
      "text/plain": [
       "0     1\n",
       "1     1\n",
       "2     1\n",
       "3     1\n",
       "4     1\n",
       "5     1\n",
       "6     1\n",
       "7     1\n",
       "8     1\n",
       "9     1\n",
       "10    1\n",
       "11    1\n",
       "12    1\n",
       "13    1\n",
       "14    1\n",
       "15    1\n",
       "16    1\n",
       "dtype: int64"
      ]
     },
     "execution_count": 18,
     "metadata": {},
     "output_type": "execute_result"
    }
   ],
   "source": [
    "fruits.apply(count_vowels)"
   ]
  },
  {
   "cell_type": "code",
   "execution_count": 22,
   "id": "df3eaa58",
   "metadata": {},
   "outputs": [
    {
     "data": {
      "text/plain": [
       "0     2\n",
       "1     2\n",
       "2     2\n",
       "3     4\n",
       "4     4\n",
       "5     5\n",
       "6     3\n",
       "7     4\n",
       "8     3\n",
       "9     2\n",
       "10    2\n",
       "11    2\n",
       "12    2\n",
       "13    3\n",
       "14    2\n",
       "15    4\n",
       "16    3\n",
       "dtype: int64"
      ]
     },
     "execution_count": 22,
     "metadata": {},
     "output_type": "execute_result"
    }
   ],
   "source": [
    "# fancy novel regex way to solve this \n",
    "fruits.str.count('[aeiou]')"
   ]
  },
  {
   "cell_type": "code",
   "execution_count": 24,
   "id": "ff696593",
   "metadata": {},
   "outputs": [
    {
     "data": {
      "text/plain": [
       "16"
      ]
     },
     "execution_count": 24,
     "metadata": {},
     "output_type": "execute_result"
    }
   ],
   "source": [
    "fruits.apply(len).max()"
   ]
  },
  {
   "cell_type": "code",
   "execution_count": 29,
   "id": "e3e238f7",
   "metadata": {},
   "outputs": [
    {
     "data": {
      "text/plain": [
       "1                mango\n",
       "2           strawberry\n",
       "3            pineapple\n",
       "4           gala apple\n",
       "5     honeycrisp apple\n",
       "6               tomato\n",
       "7           watermelon\n",
       "8             honeydew\n",
       "12               mango\n",
       "13           blueberry\n",
       "14          blackberry\n",
       "15          gooseberry\n",
       "16              papaya\n",
       "dtype: object"
      ]
     },
     "execution_count": 29,
     "metadata": {},
     "output_type": "execute_result"
    }
   ],
   "source": [
    "fruits[fruits.apply(len) >= 5]\n"
   ]
  },
  {
   "cell_type": "code",
   "execution_count": 31,
   "id": "f9023228",
   "metadata": {},
   "outputs": [
    {
     "data": {
      "text/plain": [
       "6         tomato\n",
       "15    gooseberry\n",
       "dtype: object"
      ]
     },
     "execution_count": 31,
     "metadata": {},
     "output_type": "execute_result"
    }
   ],
   "source": [
    "o_mask = fruits.str.lower().str.count('o') >= 2\n",
    "fruits[o_mask]"
   ]
  },
  {
   "cell_type": "code",
   "execution_count": 32,
   "id": "65cf7fff",
   "metadata": {},
   "outputs": [
    {
     "data": {
      "text/plain": [
       "0     False\n",
       "1     False\n",
       "2      True\n",
       "3     False\n",
       "4     False\n",
       "5     False\n",
       "6     False\n",
       "7     False\n",
       "8     False\n",
       "9     False\n",
       "10    False\n",
       "11    False\n",
       "12    False\n",
       "13     True\n",
       "14     True\n",
       "15     True\n",
       "16    False\n",
       "dtype: bool"
      ]
     },
     "execution_count": 32,
     "metadata": {},
     "output_type": "execute_result"
    }
   ],
   "source": [
    "fruits.apply(lambda x : 'berry' in x )"
   ]
  },
  {
   "cell_type": "code",
   "execution_count": null,
   "id": "c21a5ee9",
   "metadata": {},
   "outputs": [],
   "source": [
    "# most commonly occuring letters"
   ]
  }
 ],
 "metadata": {
  "kernelspec": {
   "display_name": "Python 3 (ipykernel)",
   "language": "python",
   "name": "python3"
  },
  "language_info": {
   "codemirror_mode": {
    "name": "ipython",
    "version": 3
   },
   "file_extension": ".py",
   "mimetype": "text/x-python",
   "name": "python",
   "nbconvert_exporter": "python",
   "pygments_lexer": "ipython3",
   "version": "3.9.13"
  }
 },
 "nbformat": 4,
 "nbformat_minor": 5
}
