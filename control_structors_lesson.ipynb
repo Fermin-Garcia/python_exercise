{
 "cells": [
  {
   "cell_type": "markdown",
   "id": "24046705",
   "metadata": {},
   "source": [
    " ##                                                         Loops"
   ]
  },
  {
   "cell_type": "code",
   "execution_count": null,
   "id": "f769e9c1",
   "metadata": {},
   "outputs": [],
   "source": [
    "'''\n",
    "for loops will iteratye through a predetermined set of values and do a thing \n",
    "repeateddly until it depletes the list is depleteed\n",
    "\n",
    "'''"
   ]
  },
  {
   "cell_type": "markdown",
   "id": "97153dde",
   "metadata": {},
   "source": [
    "# if statements "
   ]
  },
  {
   "cell_type": "code",
   "execution_count": 3,
   "id": "ce8a3192",
   "metadata": {},
   "outputs": [],
   "source": [
    "breakfast = 'coffee'"
   ]
  },
  {
   "cell_type": "code",
   "execution_count": 4,
   "id": "9afca62f",
   "metadata": {},
   "outputs": [
    {
     "name": "stdout",
     "output_type": "stream",
     "text": [
      "You had something else! or nothing ? idk\n"
     ]
    }
   ],
   "source": [
    "# Remember = assigns a value\n",
    "# \n",
    "\n",
    "\n",
    "if breakfast == 'bananas':\n",
    "    print ('you had a fruit')\n",
    "else:\n",
    "    print('You had something else! or nothing ? idk')"
   ]
  },
  {
   "cell_type": "code",
   "execution_count": 5,
   "id": "c74d185d",
   "metadata": {},
   "outputs": [],
   "source": [
    "breakfast = 'bananas'"
   ]
  },
  {
   "cell_type": "code",
   "execution_count": 6,
   "id": "af1715da",
   "metadata": {},
   "outputs": [
    {
     "name": "stdout",
     "output_type": "stream",
     "text": [
      "you had a fruit\n"
     ]
    }
   ],
   "source": [
    "if breakfast == 'bananas':\n",
    "    print ('you had a fruit')\n",
    "else:\n",
    "    print('You had something else! or nothing ? idk')"
   ]
  },
  {
   "cell_type": "code",
   "execution_count": 8,
   "id": "320c49a4",
   "metadata": {},
   "outputs": [
    {
     "name": "stdout",
     "output_type": "stream",
     "text": [
      "that is a string value!\n",
      "That's a fruit!\n"
     ]
    }
   ],
   "source": [
    "# nesting \n",
    "if type(breakfast) == str:\n",
    "    print('that is a string value!')\n",
    "    if breakfast in ['bananas', 'orange']:\n",
    "        print('That\\'s a fruit!')\n",
    "    else:\n",
    "              print('That\\'s something else')\n",
    "else:\n",
    "    print(\"not a string\")"
   ]
  },
  {
   "cell_type": "code",
   "execution_count": 9,
   "id": "014f615f",
   "metadata": {},
   "outputs": [
    {
     "data": {
      "text/plain": [
       "False"
      ]
     },
     "execution_count": 9,
     "metadata": {},
     "output_type": "execute_result"
    }
   ],
   "source": [
    "'z' in 'bananas'"
   ]
  },
  {
   "cell_type": "code",
   "execution_count": 11,
   "id": "55ef5cdf",
   "metadata": {},
   "outputs": [
    {
     "data": {
      "text/plain": [
       "True"
      ]
     },
     "execution_count": 11,
     "metadata": {},
     "output_type": "execute_result"
    }
   ],
   "source": [
    "'a' in 'bananas'"
   ]
  },
  {
   "cell_type": "code",
   "execution_count": 12,
   "id": "e1d7236d",
   "metadata": {},
   "outputs": [
    {
     "data": {
      "text/plain": [
       "'n'"
      ]
     },
     "execution_count": 12,
     "metadata": {},
     "output_type": "execute_result"
    }
   ],
   "source": [
    "'bananas'[2]"
   ]
  },
  {
   "cell_type": "code",
   "execution_count": 19,
   "id": "b0345f68",
   "metadata": {},
   "outputs": [],
   "source": [
    "my_other_gwen_list= [let + '!' for let in 'bananas']"
   ]
  },
  {
   "cell_type": "code",
   "execution_count": null,
   "id": "4a474883",
   "metadata": {},
   "outputs": [],
   "source": [
    "'''\n",
    "\n",
    "a list of comperhension is a shorthand \n",
    "for loops \n",
    "\n",
    "a loop will do a\n",
    "\n",
    "\n",
    "'''"
   ]
  },
  {
   "cell_type": "code",
   "execution_count": 17,
   "id": "7265d8ec",
   "metadata": {},
   "outputs": [
    {
     "name": "stdout",
     "output_type": "stream",
     "text": [
      "b\n",
      "a\n",
      "n\n",
      "a\n",
      "n\n",
      "a\n",
      "s\n"
     ]
    }
   ],
   "source": [
    "gwen_list = []\n",
    "for i in 'bananas':\n",
    "    print(i)"
   ]
  },
  {
   "cell_type": "code",
   "execution_count": 22,
   "id": "99903ae4",
   "metadata": {},
   "outputs": [
    {
     "data": {
      "text/plain": [
       "[]"
      ]
     },
     "execution_count": 22,
     "metadata": {},
     "output_type": "execute_result"
    }
   ],
   "source": [
    "gwen_list"
   ]
  }
 ],
 "metadata": {
  "kernelspec": {
   "display_name": "Python 3 (ipykernel)",
   "language": "python",
   "name": "python3"
  },
  "language_info": {
   "codemirror_mode": {
    "name": "ipython",
    "version": 3
   },
   "file_extension": ".py",
   "mimetype": "text/x-python",
   "name": "python",
   "nbconvert_exporter": "python",
   "pygments_lexer": "ipython3",
   "version": "3.9.13"
  }
 },
 "nbformat": 4,
 "nbformat_minor": 5
}
