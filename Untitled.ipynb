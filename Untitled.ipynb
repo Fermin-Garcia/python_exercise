{
 "cells": [
  {
   "cell_type": "markdown",
   "id": "16c2f50b",
   "metadata": {},
   "source": [
    "# File reading Notes \n"
   ]
  },
  {
   "cell_type": "code",
   "execution_count": 1,
   "id": "36a1b176",
   "metadata": {},
   "outputs": [],
   "source": [
    "# terminal - oriented process:\n",
    "#touch the file to make it \n",
    "# add content via a txt editor \n",
    "#save tje thing \n",
    "# look at the thing (open or cat)"
   ]
  },
  {
   "cell_type": "code",
   "execution_count": 7,
   "id": "17f5ab5f",
   "metadata": {},
   "outputs": [],
   "source": [
    "# with python:\n",
    "# our reserve word is open\n",
    "f = open('my_file.txt', 'w') \n"
   ]
  },
  {
   "cell_type": "code",
   "execution_count": 9,
   "id": "53f73eb0",
   "metadata": {},
   "outputs": [
    {
     "ename": "SyntaxError",
     "evalue": "unexpected character after line continuation character (3856394901.py, line 3)",
     "output_type": "error",
     "traceback": [
      "\u001b[0;36m  File \u001b[0;32m\"/var/folders/30/cccszyfj19z85nmzb4bvgg5r0000gq/T/ipykernel_87411/3856394901.py\"\u001b[0;36m, line \u001b[0;32m3\u001b[0m\n\u001b[0;31m    [field_1, field_2, field_3, \\n\u001b[0m\n\u001b[0m                                 ^\u001b[0m\n\u001b[0;31mSyntaxError\u001b[0m\u001b[0;31m:\u001b[0m unexpected character after line continuation character\n"
     ]
    }
   ],
   "source": [
    "with open ('baby_csv.csv', 'w') as f:\n",
    "    f.writelines(\n",
    "    [field_1, field_2, field_3,\n",
    "    '0, 25, ham \\n',\n",
    "    '1, 29, sandwich \\n'])"
   ]
  },
  {
   "cell_type": "code",
   "execution_count": null,
   "id": "7029d1c4",
   "metadata": {},
   "outputs": [],
   "source": [
    "#dictwriter, dictreader \n",
    "#lets make a receipt\n",
    "#item, category, price\n",
    "# three cols:\n",
    "# item : what thing \n",
    "# category: what type thing \n",
    "# price: da monies\n",
    "cols = ['item', 'category', 'price']\n",
    "transaction = {\n",
    "    'item' : 'milk',\n",
    "    'category' : 'dairy'\n",
    "    'Price' : 100.00\n",
    "}\n",
    "\n",
    "with open ('groceries.csv')"
   ]
  }
 ],
 "metadata": {
  "kernelspec": {
   "display_name": "Python 3 (ipykernel)",
   "language": "python",
   "name": "python3"
  },
  "language_info": {
   "codemirror_mode": {
    "name": "ipython",
    "version": 3
   },
   "file_extension": ".py",
   "mimetype": "text/x-python",
   "name": "python",
   "nbconvert_exporter": "python",
   "pygments_lexer": "ipython3",
   "version": "3.9.13"
  }
 },
 "nbformat": 4,
 "nbformat_minor": 5
}
