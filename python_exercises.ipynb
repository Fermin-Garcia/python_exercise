{
 "cells": [
  {
   "cell_type": "code",
   "execution_count": 4,
   "id": "665449ab",
   "metadata": {},
   "outputs": [
    {
     "name": "stdout",
     "output_type": "stream",
     "text": [
      "<class 'float'>\n",
      "<class 'str'>\n",
      "<class 'bool'>\n",
      "<class 'str'>\n",
      "<class 'int'>\n",
      "<class 'str'>\n",
      "<class 'bool'>\n",
      "<class 'list'>\n",
      "<class 'dict'>\n"
     ]
    }
   ],
   "source": [
    "# Number 1 find the type of each value \n",
    "\n",
    "print(type(99.9))\n",
    "print(type(\"False\"))\n",
    "print(type(False))\n",
    "print(type('0'))\n",
    "print(type(0))\n",
    "print(type('True'))\n",
    "print(type(True))\n",
    "print(type([{}]))\n",
    "print(type({'a': []}))\n"
   ]
  },
  {
   "cell_type": "code",
   "execution_count": null,
   "id": "b7f69b01",
   "metadata": {},
   "outputs": [],
   "source": [
    "'''\n",
    "2. What data type would best represent the following?\n",
    "\n",
    "A term or phrase typed into a search box - dictionary\n",
    "Whether or not a user is logged in - bool \n",
    "A discount amount to apply to a user's shopping cart- float\n",
    "Whether or not a coupon code is valid - bool \n",
    "An email address typed into a registration form - string\n",
    "The price of a product- float\n",
    "The email addresses collected from a registration form- list\n",
    "Information about applicants to Codeup's data science program- dictonary \n",
    "\n",
    "\n",
    "'''"
   ]
  }
 ],
 "metadata": {
  "kernelspec": {
   "display_name": "Python 3 (ipykernel)",
   "language": "python",
   "name": "python3"
  },
  "language_info": {
   "codemirror_mode": {
    "name": "ipython",
    "version": 3
   },
   "file_extension": ".py",
   "mimetype": "text/x-python",
   "name": "python",
   "nbconvert_exporter": "python",
   "pygments_lexer": "ipython3",
   "version": "3.9.13"
  }
 },
 "nbformat": 4,
 "nbformat_minor": 5
}
