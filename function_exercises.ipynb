{
 "cells": [
  {
   "cell_type": "markdown",
   "id": "d4e8bf54",
   "metadata": {},
   "source": [
    "# is_two Function\n",
    "- It should accept one input and return True \n",
    "- if the passed input is either the number or the string 2, False otherwise."
   ]
  },
  {
   "cell_type": "code",
   "execution_count": 4,
   "id": "5dc3cf58",
   "metadata": {},
   "outputs": [],
   "source": [
    "def is_two():\n",
    "    \n",
    "    x = input('what is your number\\n')\n",
    "    if x == 2 or x ==\"2\":\n",
    "        return True\n",
    "    else:\n",
    "        return False "
   ]
  },
  {
   "cell_type": "code",
   "execution_count": 3,
   "id": "35fd2b1e",
   "metadata": {},
   "outputs": [
    {
     "name": "stdout",
     "output_type": "stream",
     "text": [
      "what is your number\n",
      "12\n"
     ]
    },
    {
     "data": {
      "text/plain": [
       "False"
      ]
     },
     "execution_count": 3,
     "metadata": {},
     "output_type": "execute_result"
    }
   ],
   "source": [
    "is_two()"
   ]
  },
  {
   "cell_type": "markdown",
   "id": "f25381d7",
   "metadata": {},
   "source": [
    "# is_vowel function\n",
    "- It should return True if the passed string is a vowel, False otherwise."
   ]
  },
  {
   "cell_type": "code",
   "execution_count": 25,
   "id": "ee7d222c",
   "metadata": {},
   "outputs": [],
   "source": [
    "def is_vowl():\n",
    "    word = input('enter your string here \\n').lower()\n",
    "    \n",
    "    if any(letters in word for letters in 'aeiou'):\n",
    "        return True\n",
    "    else:\n",
    "        return False\n",
    "    \n",
    "    \n",
    "    \n",
    "    \n",
    "   "
   ]
  },
  {
   "cell_type": "code",
   "execution_count": 26,
   "id": "453072ec",
   "metadata": {},
   "outputs": [
    {
     "name": "stdout",
     "output_type": "stream",
     "text": [
      "enter your string here \n",
      "hello\n"
     ]
    },
    {
     "data": {
      "text/plain": [
       "True"
      ]
     },
     "execution_count": 26,
     "metadata": {},
     "output_type": "execute_result"
    }
   ],
   "source": [
    "is_vowl()  "
   ]
  },
  {
   "cell_type": "markdown",
   "id": "884a151e",
   "metadata": {},
   "source": [
    "# is_consonant function\n",
    "- It should return True if the passed string is a consonant, False otherwise. \n",
    "- Use your is_vowel function to accomplish this."
   ]
  },
  {
   "cell_type": "code",
   "execution_count": 44,
   "id": "844599d9",
   "metadata": {},
   "outputs": [],
   "source": [
    "def is_consonant():\n",
    "    result = is_vowl()\n",
    "    if result == False:\n",
    "        print('this is a consonant')\n",
    "    else:\n",
    "        print('this is a vowel')\n",
    "    "
   ]
  },
  {
   "cell_type": "code",
   "execution_count": 46,
   "id": "185bf9db",
   "metadata": {},
   "outputs": [
    {
     "name": "stdout",
     "output_type": "stream",
     "text": [
      "enter your string here \n",
      "a\n",
      "this is a vowel\n"
     ]
    }
   ],
   "source": [
    "is_consonant()"
   ]
  },
  {
   "cell_type": "markdown",
   "id": "c15edea2",
   "metadata": {},
   "source": [
    "## Define a function that accepts a string that is a word. \n",
    "- The function should capitalize the first letter of the word if the word starts with a consonant."
   ]
  },
  {
   "cell_type": "code",
   "execution_count": 50,
   "id": "e2376ce1",
   "metadata": {},
   "outputs": [],
   "source": [
    "def autocap(): \n",
    "    word = input('enter a string here: \\n')\n",
    "    \n",
    "    if word[0] not in \"aeiou\":\n",
    "        print(word[0].upper() + word[1:])\n",
    "    else:\n",
    "        print(word)\n",
    "    \n"
   ]
  },
  {
   "cell_type": "code",
   "execution_count": 52,
   "id": "843eea13",
   "metadata": {},
   "outputs": [
    {
     "name": "stdout",
     "output_type": "stream",
     "text": [
      "enter a string here: \n",
      "apple\n",
      "apple\n"
     ]
    }
   ],
   "source": [
    "autocap()\n"
   ]
  },
  {
   "cell_type": "markdown",
   "id": "2b0c8254",
   "metadata": {},
   "source": [
    "## Define a function named calculate_tip\n",
    "- It should accept a tip percentage (a number between 0 and 1) and the bill total, and return the amount to tip."
   ]
  },
  {
   "cell_type": "code",
   "execution_count": 68,
   "id": "58743b11",
   "metadata": {},
   "outputs": [],
   "source": [
    "def calculate_tip():\n",
    "    percent = int(input('What percent do you want to leave \\n '+' %'))\n",
    "    total = float(input('what is your total $'))\n",
    "    total_tip = (percent / 100) * total\n",
    "    print(\"your recommended tip amount is $\", total_tip)\n",
    "    print('Your total with the tip is ', (total + total_tip))"
   ]
  },
  {
   "cell_type": "code",
   "execution_count": 69,
   "id": "cff5362a",
   "metadata": {},
   "outputs": [
    {
     "name": "stdout",
     "output_type": "stream",
     "text": [
      "What percent do you want to leave \n",
      "  %100\n",
      "what is your total $10\n",
      "your recommended tip amount is $ 10.0\n",
      "Your total with the tip is  20.0\n"
     ]
    }
   ],
   "source": [
    "calculate_tip()"
   ]
  },
  {
   "cell_type": "markdown",
   "id": "8658cba7",
   "metadata": {},
   "source": [
    "### Define a function named apply_discount. \n",
    "- It should accept a original price, and a discount percentage and return the price after the discount is applied."
   ]
  },
  {
   "cell_type": "code",
   "execution_count": 80,
   "id": "f3a46c3f",
   "metadata": {},
   "outputs": [],
   "source": [
    "def apply_discount():\n",
    "    og_amount = float(input('what is the original amount \\n $'))\n",
    "    discount_percent = int(input(\"what is the discount amount \\n %\"))\n",
    "    discount_dec = (discount_percent / 100)\n",
    "    discount_amount = discount_dec * og_amount\n",
    "    \n",
    "    print(f' You have ${discount_amount:.2f} off, which should bring your total to about ${(og_amount - discount_amount):.2f} total.')\n"
   ]
  },
  {
   "cell_type": "code",
   "execution_count": 81,
   "id": "f3466f81",
   "metadata": {},
   "outputs": [
    {
     "name": "stdout",
     "output_type": "stream",
     "text": [
      "what is the original amount \n",
      " $100\n",
      "what is the discount amount \n",
      " %32\n",
      " You have $32.00 off, which should bring your total to about $68.00 total.\n"
     ]
    }
   ],
   "source": [
    "apply_discount()"
   ]
  },
  {
   "cell_type": "code",
   "execution_count": 97,
   "id": "e0f5cff5",
   "metadata": {},
   "outputs": [],
   "source": [
    "def handle_commas():\n",
    "    num_str = input(\"Enter a number as a string with commas: \")\n",
    "    cleaned_str = num_str.replace(',', '')\n",
    "    return (cleaned_str)\n",
    "\n"
   ]
  },
  {
   "cell_type": "code",
   "execution_count": 98,
   "id": "ff923403",
   "metadata": {},
   "outputs": [
    {
     "name": "stdout",
     "output_type": "stream",
     "text": [
      "Enter a number as a string with commas: hello, world\n"
     ]
    },
    {
     "data": {
      "text/plain": [
       "'hello world'"
      ]
     },
     "execution_count": 98,
     "metadata": {},
     "output_type": "execute_result"
    }
   ],
   "source": [
    "handle_commas()"
   ]
  }
 ],
 "metadata": {
  "kernelspec": {
   "display_name": "Python 3 (ipykernel)",
   "language": "python",
   "name": "python3"
  },
  "language_info": {
   "codemirror_mode": {
    "name": "ipython",
    "version": 3
   },
   "file_extension": ".py",
   "mimetype": "text/x-python",
   "name": "python",
   "nbconvert_exporter": "python",
   "pygments_lexer": "ipython3",
   "version": "3.9.13"
  }
 },
 "nbformat": 4,
 "nbformat_minor": 5
}
