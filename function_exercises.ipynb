{
 "cells": [
  {
   "cell_type": "code",
   "execution_count": 14,
   "id": "5dc3cf58",
   "metadata": {},
   "outputs": [],
   "source": [
    "def is_two():\n",
    "    \n",
    "    x = input('what is your number\\n')\n",
    "    if x == 2 or x ==\"2\":\n",
    "        return True\n",
    "    else:\n",
    "        return False "
   ]
  },
  {
   "cell_type": "code",
   "execution_count": 19,
   "id": "35fd2b1e",
   "metadata": {},
   "outputs": [
    {
     "name": "stdout",
     "output_type": "stream",
     "text": [
      "what is your number\n",
      "2222222\n"
     ]
    },
    {
     "data": {
      "text/plain": [
       "False"
      ]
     },
     "execution_count": 19,
     "metadata": {},
     "output_type": "execute_result"
    }
   ],
   "source": [
    "is_two()"
   ]
  },
  {
   "cell_type": "code",
   "execution_count": 219,
   "id": "ee7d222c",
   "metadata": {},
   "outputs": [],
   "source": [
    "def is_vowl():\n",
    "    word = input('enter your string here \\n').lower()\n",
    "    \n",
    "    if any(letters in word for letters in 'aeiou'):\n",
    "            return True\n",
    "    else:\n",
    "        return False\n",
    "    \n",
    "    \n",
    "    \n",
    "    \n",
    "   "
   ]
  },
  {
   "cell_type": "code",
   "execution_count": 243,
   "id": "453072ec",
   "metadata": {},
   "outputs": [
    {
     "name": "stdout",
     "output_type": "stream",
     "text": [
      "enter your string here \n",
      "jln\n"
     ]
    },
    {
     "data": {
      "text/plain": [
       "False"
      ]
     },
     "execution_count": 243,
     "metadata": {},
     "output_type": "execute_result"
    }
   ],
   "source": [
    "is_vowl()"
   ]
  },
  {
   "cell_type": "code",
   "execution_count": 237,
   "id": "844599d9",
   "metadata": {},
   "outputs": [],
   "source": [
    "def is_consonat():\n",
    "    string = input('Enter a string value \\n').lower()\n",
    "    \n",
    "    if any(letters in string for letters in 'aeiou'):\n",
    "            return False\n",
    "    else:\n",
    "        return True\n",
    "    "
   ]
  },
  {
   "cell_type": "code",
   "execution_count": 240,
   "id": "185bf9db",
   "metadata": {},
   "outputs": [
    {
     "name": "stdout",
     "output_type": "stream",
     "text": [
      "Enter a string value \n",
      "A\n"
     ]
    },
    {
     "data": {
      "text/plain": [
       "False"
      ]
     },
     "execution_count": 240,
     "metadata": {},
     "output_type": "execute_result"
    }
   ],
   "source": [
    "is_consonat()"
   ]
  },
  {
   "cell_type": "code",
   "execution_count": 375,
   "id": "6f028139",
   "metadata": {},
   "outputs": [],
   "source": [
    "def auto_caps_con():\n",
    "    word = input('what is your word \\n').lower()\n",
    "    vowls = ()\n",
    "    for letters in word:\n",
    "       pass\n",
    "    \n",
    "#     if any(letters in word for letters in 'aeiou'):\n",
    "    if letters[0]== 'a' or 'e' or 'i' or 'u': \n",
    "        print('the first letter is a vowl')\n",
    "    else:\n",
    "        print('first letter is a constant')\n",
    "      \n",
    "    "
   ]
  },
  {
   "cell_type": "code",
   "execution_count": 376,
   "id": "843eea13",
   "metadata": {},
   "outputs": [
    {
     "name": "stdout",
     "output_type": "stream",
     "text": [
      "what is your word \n",
      "fermin\n",
      "the first letter is a vowl\n"
     ]
    }
   ],
   "source": [
    "auto_caps_con()"
   ]
  },
  {
   "cell_type": "code",
   "execution_count": null,
   "id": "f608325f",
   "metadata": {},
   "outputs": [],
   "source": []
  }
 ],
 "metadata": {
  "kernelspec": {
   "display_name": "Python 3 (ipykernel)",
   "language": "python",
   "name": "python3"
  },
  "language_info": {
   "codemirror_mode": {
    "name": "ipython",
    "version": 3
   },
   "file_extension": ".py",
   "mimetype": "text/x-python",
   "name": "python",
   "nbconvert_exporter": "python",
   "pygments_lexer": "ipython3",
   "version": "3.9.13"
  }
 },
 "nbformat": 4,
 "nbformat_minor": 5
}
