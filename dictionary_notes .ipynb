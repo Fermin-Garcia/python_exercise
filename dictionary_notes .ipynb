{
 "cells": [
  {
   "cell_type": "code",
   "execution_count": 20,
   "id": "a40c3bc6",
   "metadata": {},
   "outputs": [
    {
     "name": "stdout",
     "output_type": "stream",
     "text": [
      "blond\n"
     ]
    }
   ],
   "source": [
    "exdict = {'jack':[ 15, 'blond'], 'bob': [22,'brown'], 'alice':[12, 'black'], 'kevin': [17, 'Red' ] }\n",
    "# print(exdict)\n",
    "print(exdict['jack'][1])\n",
    "\n",
    "# adding to a dictionary \n",
    "# exdict['tim'] = 14 \n",
    "# print(exdict)"
   ]
  },
  {
   "cell_type": "code",
   "execution_count": 16,
   "id": "9100c179",
   "metadata": {},
   "outputs": [
    {
     "name": "stdout",
     "output_type": "stream",
     "text": [
      "{'jack': 15, 'bob': 22, 'alice': 12, 'kevin': 17, 'tim': 15}\n"
     ]
    }
   ],
   "source": [
    "# oh, no tim actually turns 15 today can you update the age? \n",
    "\n",
    "exdict['tim'] = 15\n",
    "print(exdict)\n",
    "\n"
   ]
  },
  {
   "cell_type": "code",
   "execution_count": 18,
   "id": "0a8535c9",
   "metadata": {},
   "outputs": [
    {
     "name": "stdout",
     "output_type": "stream",
     "text": [
      "{'jack': 15, 'bob': 22, 'alice': 12, 'kevin': 17}\n"
     ]
    }
   ],
   "source": [
    "# What is that? a bird, a plane maybe, oh no it hit tim! hes dead!\n",
    "# tim has died but that is his families problem, lets remove him from our list ! \n",
    "del exdict['tim']\n",
    "print(exdict)"
   ]
  },
  {
   "cell_type": "code",
   "execution_count": 23,
   "id": "ecdddcf4",
   "metadata": {},
   "outputs": [],
   "source": [
    "# new video \n",
    "\n",
    "#dictionaries are used to create a key values pair if you have multiple\n",
    "#seperate them with a comma. \n",
    "\n",
    "# you create a dictionary by starting it with a '{' and end with a '}'\n",
    "post = {'user_id' : 209 , 'message': 'D5 E5 C5 C4 G4', 'language': 'English',\n",
    "       'datetime': '20230215T124231Z', 'location': (44.590533, -104.715556)}\n",
    "\n",
    "\n",
    "\n",
    "\n"
   ]
  },
  {
   "cell_type": "markdown",
   "id": "0f69430c",
   "metadata": {},
   "source": [
    "#### notice how the values have a variety of data types in this dictionary \n",
    "- an interger\n",
    "- three strings \n",
    "- a touple of floats "
   ]
  },
  {
   "cell_type": "code",
   "execution_count": 24,
   "id": "39adbe33",
   "metadata": {},
   "outputs": [
    {
     "data": {
      "text/plain": [
       "dict"
      ]
     },
     "execution_count": 24,
     "metadata": {},
     "output_type": "execute_result"
    }
   ],
   "source": [
    "type(post)"
   ]
  },
  {
   "cell_type": "code",
   "execution_count": 25,
   "id": "82da3eb5",
   "metadata": {},
   "outputs": [
    {
     "name": "stdout",
     "output_type": "stream",
     "text": [
      "D5 E5 C5 C4 G4\n"
     ]
    }
   ],
   "source": [
    "print(post['message'])\n",
    "\n"
   ]
  },
  {
   "cell_type": "code",
   "execution_count": 27,
   "id": "8b74b814",
   "metadata": {},
   "outputs": [
    {
     "name": "stdout",
     "output_type": "stream",
     "text": [
      "user_id = 209\n",
      "message = D5 E5 C5 C4 G4\n",
      "language = English\n",
      "datetime = 20230215T124231Z\n",
      "location = (44.590533, -104.715556)\n"
     ]
    }
   ],
   "source": [
    "# we can loop to get all the keys in a dictionary \n",
    "for key in post.keys():\n",
    "    value = post[key]\n",
    "    print(key, '=' ,post[key])"
   ]
  },
  {
   "cell_type": "code",
   "execution_count": 30,
   "id": "b29d082f",
   "metadata": {},
   "outputs": [
    {
     "name": "stdout",
     "output_type": "stream",
     "text": [
      "user_id = 209\n",
      "message = D5 E5 C5 C4 G4\n",
      "language = English\n",
      "datetime = 20230215T124231Z\n",
      "location = (44.590533, -104.715556)\n"
     ]
    }
   ],
   "source": [
    "for key, value in post.items():\n",
    "    print(key, '=', value)"
   ]
  },
  {
   "cell_type": "code",
   "execution_count": null,
   "id": "65f6d033",
   "metadata": {},
   "outputs": [],
   "source": []
  }
 ],
 "metadata": {
  "kernelspec": {
   "display_name": "Python 3 (ipykernel)",
   "language": "python",
   "name": "python3"
  },
  "language_info": {
   "codemirror_mode": {
    "name": "ipython",
    "version": 3
   },
   "file_extension": ".py",
   "mimetype": "text/x-python",
   "name": "python",
   "nbconvert_exporter": "python",
   "pygments_lexer": "ipython3",
   "version": "3.9.13"
  }
 },
 "nbformat": 4,
 "nbformat_minor": 5
}
